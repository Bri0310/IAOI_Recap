{
  "nbformat": 4,
  "nbformat_minor": 0,
  "metadata": {
    "colab": {
      "provenance": [],
      "authorship_tag": "ABX9TyP4GYJoF574/Jrxc1LdIumr"
    },
    "kernelspec": {
      "name": "python3",
      "display_name": "Python 3"
    },
    "language_info": {
      "name": "python"
    }
  },
  "cells": [
    {
      "cell_type": "markdown",
      "source": [
        "Hi! Welcome to Week 2, where we focused on data handling. We were introduced to six commonly used external libraries and tools for handling data:\n",
        "\n",
        "\n",
        "*   NumPy\n",
        "*   Pandas:\n",
        "*   Matplotlib\n",
        "*   Scikit-learn\n",
        "*   Tensor/Tensorflow\n",
        "*   Pytorch\n",
        "\n",
        "If you're wondering, a library is just a collection of code that you can use in your own program. It is a great way to make tasks easier and avoid writing code from scratch that already exists. You can import libraries as follows:\n",
        "\n",
        "\n"
      ],
      "metadata": {
        "id": "a83uwi0HPAJ8"
      }
    },
    {
      "cell_type": "code",
      "source": [
        "import math\n",
        "print(math.pi)\n",
        "\n",
        "import numpy as np #by using the alias np, we can use this library more quickly\n",
        "print(np.pi)\n",
        "\n",
        "from pandas import * #you can make everything in the module accessible like this\n",
        "#I don't recommend using this method often, as this may result in unnecessary library conflicts"
      ],
      "metadata": {
        "colab": {
          "base_uri": "https://localhost:8080/"
        },
        "id": "ZvnxlJQCdV0e",
        "outputId": "1f160d16-f0ff-4b98-f23d-1064b64ba613"
      },
      "execution_count": null,
      "outputs": [
        {
          "output_type": "stream",
          "name": "stdout",
          "text": [
            "3.141592653589793\n",
            "3.141592653589793\n"
          ]
        }
      ]
    },
    {
      "cell_type": "markdown",
      "source": [
        "If you ever use a library and need help understanding your code, you an use the following tools (given an example ndarray from numpy)\n",
        "\n",
        "nums = numpy.random.randint(low=0,high=10,size=8)\n",
        "\n",
        "*   type(nums): tells you what it is\n",
        "*   print(dir(nums)): lists all of the things that can be one with it, ie the object's methods\n",
        "*   help(nums.ravel): explains the method, and suggests documentation\n",
        "\n",
        "\n",
        "\n"
      ],
      "metadata": {
        "id": "9SfoQ_A9NB9v"
      }
    },
    {
      "cell_type": "markdown",
      "source": [
        "#Note for IDE users\n",
        "Please note that if you are using a local IDE like Visual Studio Code you will have to install any external libraries, for instance numpy. There are many ways to do this, for example by:\n",
        "\n",
        "\n",
        "*   Downloading the library from the website\n",
        "*   Using pip install to download each external library\n",
        "*   Adding all external libraries to a requirements.txt file then using pip install to download everything in the file\n",
        "\n",
        "If you need many different libraries for a single project, I strongly recommend creating the requirements.txt file.\n",
        "\n",
        "Furthermore, I strongly recommend either creating a virtual environment/venv(easier) or containerizing the project, for example with Docker (more complex). We will not cover these options just yet, but feel free to research them in your spare time.\n",
        "\n",
        "### If all of this is a bit too much right now, simply use colab.research.google.com. No need for installations there!\n",
        "\n",
        "Now, let's review what we covered for these libraries"
      ],
      "metadata": {
        "id": "yp6Iiu9zeofB"
      }
    },
    {
      "cell_type": "markdown",
      "source": [
        "## Numpy\n",
        "[Documentation](https://numpy.org/doc/stable/index.html)\n",
        "\n",
        "Numpy, or Numerical Python, is the library upon which most other popular libraries used in machine learning are built. Numpy, most notably, includes the ndarray datatype. This is a multidemensional array object: a gridlike structure that holds data in any number of dimmentions.\n",
        "\n",
        "Numpy arrays are typically used in place of native python data types.\n",
        "\n",
        "####Python Lists vs Numpy Arrays\n",
        "\n",
        "Python Lists\n",
        "\n",
        "*   Can contain different data types\n",
        "*   Uses more space in memory than numpy arrays\n",
        "\n",
        "Numpy Arrays\n",
        "\n",
        "*   Can only contain a single data type\n",
        "*   Uses less space in memory than python lists\n",
        "\n",
        "\n",
        "\n",
        "\n",
        "\n",
        "\n"
      ],
      "metadata": {
        "id": "D7aitjtDdBwU"
      }
    },
    {
      "cell_type": "code",
      "source": [
        "import numpy as np #Note that as long as the runtime is active I don't need to re-import these, I'm just doing it in case yours resets and you don't realize!\n",
        "\n",
        "#This is an example of a 1-dementional array. It looks like a python list\n",
        "lst = [1,3,2]\n",
        "arr = np.array(lst)\n",
        "print(arr)\n",
        "type(arr)\n",
        "\n",
        "#Here is a two dimentional array, a list of lists\n",
        "lst2 = [[2,9,3],[5,6,9],[9,2,7]]\n",
        "arr2 = np.array(lst2)\n",
        "print(arr2)\n",
        "type(arr2)"
      ],
      "metadata": {
        "colab": {
          "base_uri": "https://localhost:8080/"
        },
        "id": "nLsxE118GzMx",
        "outputId": "255f5a47-05ae-4ecc-9570-17f98bb146f5"
      },
      "execution_count": 5,
      "outputs": [
        {
          "output_type": "stream",
          "name": "stdout",
          "text": [
            "[1 3 2]\n",
            "[[2 9 3]\n",
            " [5 6 9]\n",
            " [9 2 7]]\n"
          ]
        },
        {
          "output_type": "execute_result",
          "data": {
            "text/plain": [
              "numpy.ndarray"
            ]
          },
          "metadata": {},
          "execution_count": 5
        }
      ]
    },
    {
      "cell_type": "code",
      "source": [
        "import numpy as np\n",
        "\n",
        "#Instead of creating an array from a python list, you can use some numpy functions\n",
        "print(\"Like this:\", np.zeros((5,3))) #accepts tuple with array shape\n",
        "print(\"Or this:\", np.random.random((2,4))) #accepts tuple with array shape\n",
        "print(\"Oooor this:\", np.arange(-2,3,6)) #Can also accept a third value for step size"
      ],
      "metadata": {
        "colab": {
          "base_uri": "https://localhost:8080/"
        },
        "id": "hI7UGeJtIWKh",
        "outputId": "cc7a003d-294b-4e5d-a378-00185bbc8d99"
      },
      "execution_count": 2,
      "outputs": [
        {
          "output_type": "stream",
          "name": "stdout",
          "text": [
            "Like this: [[0. 0. 0.]\n",
            " [0. 0. 0.]\n",
            " [0. 0. 0.]\n",
            " [0. 0. 0.]\n",
            " [0. 0. 0.]]\n",
            "Or this: [[0.23699891 0.79550907 0.30135526 0.75613215]\n",
            " [0.719881   0.6115445  0.41917392 0.98159894]]\n",
            "Oooor this: [-2 -1  0  1  2  3  4  5]\n"
          ]
        }
      ]
    },
    {
      "cell_type": "code",
      "source": [
        "#One of the coolest things about numpy arrays is that you can make changes to each element of the array at once, for example:\n",
        "\n",
        "arr = np.array([1, 2, 3, 4, 5])\n",
        "arr_addone = arr + 1\n",
        "#print(arr)\n",
        "#print(arr_addone)\n",
        "\n",
        "arr_add3 = arr\n",
        "arr_add3 += 3 #This is the same as saying arr_add3 = arr_add3 + 3\n",
        "#print(arr)\n",
        "print(arr_add3)\n",
        "\n",
        "#This is much faster than using python to loop through the array, and add to each object"
      ],
      "metadata": {
        "colab": {
          "base_uri": "https://localhost:8080/"
        },
        "id": "ibsGJpbRYXZF",
        "outputId": "4ef85fb0-fb3b-467e-8326-cf8b36008de1"
      },
      "execution_count": 6,
      "outputs": [
        {
          "output_type": "stream",
          "name": "stdout",
          "text": [
            "[4 5 6 7 8]\n"
          ]
        }
      ]
    },
    {
      "cell_type": "markdown",
      "source": [
        "##Pandas\n",
        "\n",
        "[Documentation](https://pandas.pydata.org/docs/)\n",
        "\n",
        "Pandas is popular library built on numpy used for data manipulation and visualization. It allows you to create two datatypes: dataframes and series.\n",
        "\n",
        "*  A series is a 1D labeled array\n",
        "*  A dataframe is a 2D labeled array (like a table, or a spreadsheet)\n",
        "\n",
        "Pandas is usually used to read, clean and transform data, as well as perform group operations.\n",
        "\n",
        "###Dataframes\n",
        "All values in a column have the same datatype, but valeus in different columns can have different datatypes, even if they're in the same row\n",
        "\n"
      ],
      "metadata": {
        "id": "JlSfCyPPMxqV"
      }
    },
    {
      "cell_type": "code",
      "source": [
        "import numpy as np #Import numpy as well when using pandas\n",
        "import pandas as pd\n",
        "\n",
        "# Here we are creating a data frame, called df, from a python dictionary\n",
        "data = {'Name': ['Alice', 'Bob', 'Charlie'], 'Age': [25, 30, 35]}\n",
        "df = pd.DataFrame(data)\n",
        "print(df) # notice how it looks like an indexed table"
      ],
      "metadata": {
        "colab": {
          "base_uri": "https://localhost:8080/"
        },
        "id": "4dOfkr-kPmqI",
        "outputId": "cd501941-9143-4e2f-c243-d0cae0e5bef2"
      },
      "execution_count": 10,
      "outputs": [
        {
          "output_type": "stream",
          "name": "stdout",
          "text": [
            "      Name  Age\n",
            "0    Alice   25\n",
            "1      Bob   30\n",
            "2  Charlie   35\n"
          ]
        }
      ]
    },
    {
      "cell_type": "code",
      "source": [
        "import numpy as np\n",
        "import pandas as pd\n",
        "\n",
        "#Usually, you load data that you have downloaded locally as follows\n",
        "#data = pd.read_csv('yourfilename.csv')\n",
        "\n",
        "#If you are using colab, you can upload your data to google colab with the following code\n",
        "#from google.colab import files\n",
        "#uploaded = files.upload()\n",
        "\n",
        "#For testing purposes though, I will import a test dataset as follows:\n",
        "import seaborn as sns\n",
        "data = sns.load_dataset(\"titanic\")\n",
        "\n",
        "#You can also try creating your own dataframe and use that one to test\n",
        "#Let's take a look at a few methods in pandas\n",
        "\n",
        "print(data.head()) #use this to view the first 5 rows of a dataframe"
      ],
      "metadata": {
        "colab": {
          "base_uri": "https://localhost:8080/"
        },
        "id": "Wx15BuOrRXnW",
        "outputId": "5a46d0f4-2990-4685-acea-f14d2e53f4e5"
      },
      "execution_count": 7,
      "outputs": [
        {
          "output_type": "stream",
          "name": "stdout",
          "text": [
            "   survived  pclass     sex   age  sibsp  parch     fare embarked  class  \\\n",
            "0         0       3    male  22.0      1      0   7.2500        S  Third   \n",
            "1         1       1  female  38.0      1      0  71.2833        C  First   \n",
            "2         1       3  female  26.0      0      0   7.9250        S  Third   \n",
            "3         1       1  female  35.0      1      0  53.1000        S  First   \n",
            "4         0       3    male  35.0      0      0   8.0500        S  Third   \n",
            "\n",
            "     who  adult_male deck  embark_town alive  alone  \n",
            "0    man        True  NaN  Southampton    no  False  \n",
            "1  woman       False    C    Cherbourg   yes  False  \n",
            "2  woman       False  NaN  Southampton   yes   True  \n",
            "3  woman       False    C  Southampton   yes  False  \n",
            "4    man        True  NaN  Southampton    no   True  \n"
          ]
        }
      ]
    },
    {
      "cell_type": "code",
      "source": [
        "print(\"Shape:\", data.shape) #show rows and columns\n",
        "print(\"\\n\")\n",
        "\n",
        "\n",
        "print(\"Columns:\", data.columns) #View column names\n",
        "print(\"\\n\")\n",
        "\n",
        "print(\"Data types:\\n\", data.dtypes) #View column datatypes\n",
        "print(\"\\n\")\n",
        "\n",
        "print(\"Summary statistics:\\n\", data.describe()) #Gives summary statistics\n",
        "print(\"\\n\")\n",
        "\n"
      ],
      "metadata": {
        "colab": {
          "base_uri": "https://localhost:8080/"
        },
        "id": "2sGusFa4T6OO",
        "outputId": "55e2db89-f6e1-4962-9ebb-b6ca41c59846"
      },
      "execution_count": 15,
      "outputs": [
        {
          "output_type": "stream",
          "name": "stdout",
          "text": [
            "Columns: Index(['survived', 'pclass', 'sex', 'age', 'sibsp', 'parch', 'fare',\n",
            "       'embarked', 'class', 'who', 'adult_male', 'deck', 'embark_town',\n",
            "       'alive', 'alone'],\n",
            "      dtype='object')\n",
            "\n",
            "\n",
            "Data types:\n",
            " survived          int64\n",
            "pclass            int64\n",
            "sex              object\n",
            "age             float64\n",
            "sibsp             int64\n",
            "parch             int64\n",
            "fare            float64\n",
            "embarked         object\n",
            "class          category\n",
            "who              object\n",
            "adult_male         bool\n",
            "deck           category\n",
            "embark_town      object\n",
            "alive            object\n",
            "alone              bool\n",
            "dtype: object\n",
            "\n",
            "\n",
            "Summary statistics:\n",
            "          survived      pclass         age       sibsp       parch        fare\n",
            "count  891.000000  891.000000  714.000000  891.000000  891.000000  891.000000\n",
            "mean     0.383838    2.308642   29.699118    0.523008    0.381594   32.204208\n",
            "std      0.486592    0.836071   14.526497    1.102743    0.806057   49.693429\n",
            "min      0.000000    1.000000    0.420000    0.000000    0.000000    0.000000\n",
            "25%      0.000000    2.000000   20.125000    0.000000    0.000000    7.910400\n",
            "50%      0.000000    3.000000   28.000000    0.000000    0.000000   14.454200\n",
            "75%      1.000000    3.000000   38.000000    1.000000    0.000000   31.000000\n",
            "max      1.000000    3.000000   80.000000    8.000000    6.000000  512.329200\n",
            "\n",
            "\n",
            "Missing values per column:\n",
            " survived         0\n",
            "pclass           0\n",
            "sex              0\n",
            "age            177\n",
            "sibsp            0\n",
            "parch            0\n",
            "fare             0\n",
            "embarked         2\n",
            "class            0\n",
            "who              0\n",
            "adult_male       0\n",
            "deck           688\n",
            "embark_town      2\n",
            "alive            0\n",
            "alone            0\n",
            "dtype: int64\n"
          ]
        }
      ]
    },
    {
      "cell_type": "code",
      "source": [
        "print(\"Missing values per column:\\n\", data.isnull().sum()) #Shows number of null/NaN/empty values\n",
        "print(\"\\n\")\n",
        "\n",
        "print(\"Unique values:\\n\", data.nunique()) #Shows number of unique values"
      ],
      "metadata": {
        "colab": {
          "base_uri": "https://localhost:8080/"
        },
        "id": "GwBf98TTk9Rx",
        "outputId": "f5ae86aa-9750-4b77-dc3e-1a8eed8fbef3"
      },
      "execution_count": 16,
      "outputs": [
        {
          "output_type": "stream",
          "name": "stdout",
          "text": [
            "Missing values per column:\n",
            " survived         0\n",
            "pclass           0\n",
            "sex              0\n",
            "age            177\n",
            "sibsp            0\n",
            "parch            0\n",
            "fare             0\n",
            "embarked         2\n",
            "class            0\n",
            "who              0\n",
            "adult_male       0\n",
            "deck           688\n",
            "embark_town      2\n",
            "alive            0\n",
            "alone            0\n",
            "dtype: int64\n",
            "\n",
            "\n",
            "Unique values:\n",
            " survived         2\n",
            "pclass           3\n",
            "sex              2\n",
            "age             88\n",
            "sibsp            7\n",
            "parch            7\n",
            "fare           248\n",
            "embarked         3\n",
            "class            3\n",
            "who              3\n",
            "adult_male       2\n",
            "deck             7\n",
            "embark_town      3\n",
            "alive            2\n",
            "alone            2\n",
            "dtype: int64\n"
          ]
        }
      ]
    },
    {
      "cell_type": "markdown",
      "source": [
        "##Matplotlib\n",
        "[Documentation](https://matplotlib.org/stable/users/index.html)\n",
        "\n",
        "Matplotlib is a graphing and plotting library used to make a variety of charts and graphs, such as line graphs, bar charts, histograms, scatter plots, and much more.\n",
        "\n",
        "Take some time to research which graphs and charts are best to use in different situations, for example depending on the type of data being visualized, the reason for visualizing the data or the number of rows/columns.\n",
        "\n"
      ],
      "metadata": {
        "id": "dSIgjbwjMqd7"
      }
    },
    {
      "cell_type": "code",
      "source": [
        "import matplotlib.pyplot as plt\n",
        "\n",
        "x = [1, 2, 3, 4]\n",
        "y = [10, 15, 13, 17]\n",
        "\n",
        "plt.plot(x, y)\n",
        "plt.title(\"Here is an example of a line graph. Try drawing other graphs!\")\n",
        "plt.xlabel(\"X Axis\")\n",
        "plt.ylabel(\"Y Axis\")\n",
        "plt.show()"
      ],
      "metadata": {
        "colab": {
          "base_uri": "https://localhost:8080/",
          "height": 472
        },
        "id": "ky1-zxYpJKS_",
        "outputId": "f8aa204a-d366-4218-a012-70d47869bd73"
      },
      "execution_count": 2,
      "outputs": [
        {
          "output_type": "display_data",
          "data": {
            "text/plain": [
              "<Figure size 640x480 with 1 Axes>"
            ],
            "image/png": "[encoded data removed]"
          },
          "metadata": {}
        }
      ]
    },
    {
      "cell_type": "markdown",
      "source": [
        "##Scikit-learn\n",
        "[Documentation](https://scikit-learn.org/stable/index.html)\n",
        "\n",
        "Scikit-learn, which I keep spelling incorrectly, is a powerful machine learning library. It is usually used for classification, regression, or even evaluation. It is very often used with numpy.\n",
        "\n",
        "We did not really go into depth with this one, but check out the example below. We will learn more later though, so still take a look at this documentation!"
      ],
      "metadata": {
        "id": "g2hKc-A7RI0U"
      }
    },
    {
      "cell_type": "code",
      "source": [
        "from sklearn.linear_model import LinearRegression\n",
        "import numpy as np\n",
        "\n",
        "x = np.array([[1], [2], [3], [4]])\n",
        "y = np.array([2, 4, 6, 8])\n",
        "\n",
        "model = LinearRegression()\n",
        "model.fit(x, y)\n",
        "\n",
        "print(\"Prediction for 5:\", model.predict([[5]]))"
      ],
      "metadata": {
        "colab": {
          "base_uri": "https://localhost:8080/"
        },
        "id": "6z5dlAwJKx28",
        "outputId": "378cc894-c6b3-4bc2-9ddf-9fd9f888e602"
      },
      "execution_count": 3,
      "outputs": [
        {
          "output_type": "stream",
          "name": "stdout",
          "text": [
            "Prediction for 5: [10.]\n"
          ]
        }
      ]
    },
    {
      "cell_type": "markdown",
      "source": [
        "##Tensorflow\n",
        "[Documentation](https://www.tensorflow.org/guide)\n",
        "\n",
        "Tensorflow is a library often used for deep learning and neural networks.\n",
        "\n",
        "We did not really go into depth with this one, but check out the example below. We will learn more later though, so still take a look at this documentation!"
      ],
      "metadata": {
        "id": "sXnX7oiHPkx5"
      }
    },
    {
      "cell_type": "code",
      "source": [
        "import tensorflow as tf\n",
        "\n",
        "model = tf.keras.Sequential([\n",
        "    tf.keras.layers.Dense(4, input_shape=(2,), activation='relu'),\n",
        "    tf.keras.layers.Dense(1)\n",
        "])\n",
        "\n",
        "model.compile(optimizer='adam', loss='mse')\n",
        "model.summary()"
      ],
      "metadata": {
        "colab": {
          "base_uri": "https://localhost:8080/",
          "height": 249
        },
        "id": "qI_OjGixLw__",
        "outputId": "44414df0-c01a-4419-9a4e-2ea46302d59a"
      },
      "execution_count": 4,
      "outputs": [
        {
          "output_type": "stream",
          "name": "stderr",
          "text": [
            "/usr/local/lib/python3.11/dist-packages/keras/src/layers/core/dense.py:87: UserWarning: Do not pass an `input_shape`/`input_dim` argument to a layer. When using Sequential models, prefer using an `Input(shape)` object as the first layer in the model instead.\n",
            "  super().__init__(activity_regularizer=activity_regularizer, **kwargs)\n"
          ]
        },
        {
          "output_type": "display_data",
          "data": {
            "text/plain": [
              "\u001b[1mModel: \"sequential\"\u001b[0m\n"
            ],
            "text/html": [
              "<pre style=\"white-space:pre;overflow-x:auto;line-height:normal;font-family:Menlo,'DejaVu Sans Mono',consolas,'Courier New',monospace\"><span style=\"font-weight: bold\">Model: \"sequential\"</span>\n",
              "</pre>\n"
            ]
          },
          "metadata": {}
        },
        {
          "output_type": "display_data",
          "data": {
            "text/plain": [
              "┏━━━━━━━━━━━━━━━━━━━━━━━━━━━━━━━━━┳━━━━━━━━━━━━━━━━━━━━━━━━┳━━━━━━━━━━━━━━━┓\n",
              "┃\u001b[1m \u001b[0m\u001b[1mLayer (type)                   \u001b[0m\u001b[1m \u001b[0m┃\u001b[1m \u001b[0m\u001b[1mOutput Shape          \u001b[0m\u001b[1m \u001b[0m┃\u001b[1m \u001b[0m\u001b[1m      Param #\u001b[0m\u001b[1m \u001b[0m┃\n",
              "┡━━━━━━━━━━━━━━━━━━━━━━━━━━━━━━━━━╇━━━━━━━━━━━━━━━━━━━━━━━━╇━━━━━━━━━━━━━━━┩\n",
              "│ dense (\u001b[38;5;33mDense\u001b[0m)                   │ (\u001b[38;5;45mNone\u001b[0m, \u001b[38;5;34m4\u001b[0m)              │            \u001b[38;5;34m12\u001b[0m │\n",
              "├─────────────────────────────────┼────────────────────────┼───────────────┤\n",
              "│ dense_1 (\u001b[38;5;33mDense\u001b[0m)                 │ (\u001b[38;5;45mNone\u001b[0m, \u001b[38;5;34m1\u001b[0m)              │             \u001b[38;5;34m5\u001b[0m │\n",
              "└─────────────────────────────────┴────────────────────────┴───────────────┘\n"
            ],
            "text/html": [
              "<pre style=\"white-space:pre;overflow-x:auto;line-height:normal;font-family:Menlo,'DejaVu Sans Mono',consolas,'Courier New',monospace\">┏━━━━━━━━━━━━━━━━━━━━━━━━━━━━━━━━━┳━━━━━━━━━━━━━━━━━━━━━━━━┳━━━━━━━━━━━━━━━┓\n",
              "┃<span style=\"font-weight: bold\"> Layer (type)                    </span>┃<span style=\"font-weight: bold\"> Output Shape           </span>┃<span style=\"font-weight: bold\">       Param # </span>┃\n",
              "┡━━━━━━━━━━━━━━━━━━━━━━━━━━━━━━━━━╇━━━━━━━━━━━━━━━━━━━━━━━━╇━━━━━━━━━━━━━━━┩\n",
              "│ dense (<span style=\"color: #0087ff; text-decoration-color: #0087ff\">Dense</span>)                   │ (<span style=\"color: #00d7ff; text-decoration-color: #00d7ff\">None</span>, <span style=\"color: #00af00; text-decoration-color: #00af00\">4</span>)              │            <span style=\"color: #00af00; text-decoration-color: #00af00\">12</span> │\n",
              "├─────────────────────────────────┼────────────────────────┼───────────────┤\n",
              "│ dense_1 (<span style=\"color: #0087ff; text-decoration-color: #0087ff\">Dense</span>)                 │ (<span style=\"color: #00d7ff; text-decoration-color: #00d7ff\">None</span>, <span style=\"color: #00af00; text-decoration-color: #00af00\">1</span>)              │             <span style=\"color: #00af00; text-decoration-color: #00af00\">5</span> │\n",
              "└─────────────────────────────────┴────────────────────────┴───────────────┘\n",
              "</pre>\n"
            ]
          },
          "metadata": {}
        },
        {
          "output_type": "display_data",
          "data": {
            "text/plain": [
              "\u001b[1m Total params: \u001b[0m\u001b[38;5;34m17\u001b[0m (68.00 B)\n"
            ],
            "text/html": [
              "<pre style=\"white-space:pre;overflow-x:auto;line-height:normal;font-family:Menlo,'DejaVu Sans Mono',consolas,'Courier New',monospace\"><span style=\"font-weight: bold\"> Total params: </span><span style=\"color: #00af00; text-decoration-color: #00af00\">17</span> (68.00 B)\n",
              "</pre>\n"
            ]
          },
          "metadata": {}
        },
        {
          "output_type": "display_data",
          "data": {
            "text/plain": [
              "\u001b[1m Trainable params: \u001b[0m\u001b[38;5;34m17\u001b[0m (68.00 B)\n"
            ],
            "text/html": [
              "<pre style=\"white-space:pre;overflow-x:auto;line-height:normal;font-family:Menlo,'DejaVu Sans Mono',consolas,'Courier New',monospace\"><span style=\"font-weight: bold\"> Trainable params: </span><span style=\"color: #00af00; text-decoration-color: #00af00\">17</span> (68.00 B)\n",
              "</pre>\n"
            ]
          },
          "metadata": {}
        },
        {
          "output_type": "display_data",
          "data": {
            "text/plain": [
              "\u001b[1m Non-trainable params: \u001b[0m\u001b[38;5;34m0\u001b[0m (0.00 B)\n"
            ],
            "text/html": [
              "<pre style=\"white-space:pre;overflow-x:auto;line-height:normal;font-family:Menlo,'DejaVu Sans Mono',consolas,'Courier New',monospace\"><span style=\"font-weight: bold\"> Non-trainable params: </span><span style=\"color: #00af00; text-decoration-color: #00af00\">0</span> (0.00 B)\n",
              "</pre>\n"
            ]
          },
          "metadata": {}
        }
      ]
    },
    {
      "cell_type": "markdown",
      "source": [
        "##Pytorch\n",
        "\n",
        "Pytorch is a library used for deep learning and neural networks.\n",
        "\n",
        "We did not really go into depth with this one, but check out the example below. We will learn more later though, so still take a look at this documentation!"
      ],
      "metadata": {
        "id": "DcVdQWwFREJ1"
      }
    },
    {
      "cell_type": "code",
      "source": [
        "import torch\n",
        "\n",
        "x = torch.tensor([1.0, 2.0, 3.0])\n",
        "print(x)\n",
        "print(\"Shape:\", x.shape)\n",
        "print(\"Tensor type:\", type(x))"
      ],
      "metadata": {
        "colab": {
          "base_uri": "https://localhost:8080/"
        },
        "id": "95j6dTo-KRoD",
        "outputId": "49803612-5d35-425f-91f9-681942fa1daf"
      },
      "execution_count": 5,
      "outputs": [
        {
          "output_type": "stream",
          "name": "stdout",
          "text": [
            "tensor([1., 2., 3.])\n",
            "Shape: torch.Size([3])\n",
            "Tensor type: <class 'torch.Tensor'>\n"
          ]
        }
      ]
    },
    {
      "cell_type": "markdown",
      "source": [
        "After being introduced to these libraries, we did a small project using the three libraries that we discussed most heavily: numpy, pandas and matplotlib. Here I have included the project as well as possible answers.\n"
      ],
      "metadata": {
        "id": "n-A9AxEpnA40"
      }
    },
    {
      "cell_type": "markdown",
      "source": [
        "##Project 1: Data Manipulation\n",
        "For today's activity, we will creating a playlist analyzer, and using it to determine your top artist and other listening patterns.\n",
        "\n",
        "As per usual, each question should be answered in a separate cell.\n",
        "\n",
        "\n"
      ],
      "metadata": {
        "id": "W_L97rtenczX"
      }
    },
    {
      "cell_type": "markdown",
      "source": [
        "Question 1: Create a data frame called playlist with the following information:\n",
        "\n",
        "\n",
        "1.   Eight songs of your choice in a column 'Song'. I recommend choosing your 8 favourite songs.\n",
        "2.   The artists for those songs in a column 'Artist'\n",
        "3.   The vibe for those songs in a column 'Energy'. The vibe should be on a 0 to 1 scale, with 1 being highest energy and 0 being lowest energy.\n",
        "4.   The day that the song was played in a column 'Day_Played'.\n",
        "\n",
        "Print the playlist, then show the first 5 rows of the playlist"
      ],
      "metadata": {
        "id": "SluVbRiIp_tX"
      }
    },
    {
      "cell_type": "code",
      "source": [
        "#Your code goes here"
      ],
      "metadata": {
        "id": "q-ogUc71rSx9"
      },
      "execution_count": null,
      "outputs": []
    },
    {
      "cell_type": "markdown",
      "source": [
        "Question 2: Evaluate which artist is your top (most listened to) artist, then print the results"
      ],
      "metadata": {
        "id": "mYmi1Fs0rdQw"
      }
    },
    {
      "cell_type": "code",
      "source": [
        "#Your code goes here"
      ],
      "metadata": {
        "id": "T6NrtRzJs7xj"
      },
      "execution_count": null,
      "outputs": []
    },
    {
      "cell_type": "markdown",
      "source": [
        "Question 3: Evaluate your average energy level.\n",
        "\n",
        "\n",
        "*   If your average energy level is less than 0.4, print something interesting like \"I'm just a chill guy\"\n",
        "*   If your average energy level is more than 0.6, print something interesting\n",
        "*   If your average energy level is between 0.4 and 0.6 (inclusive of these numbers) print something interesting\n",
        "\n",
        "\n",
        "\n",
        "\n",
        "\n",
        "\n"
      ],
      "metadata": {
        "id": "pw-S6Wjos_pO"
      }
    },
    {
      "cell_type": "code",
      "source": [
        "#Your code goes here"
      ],
      "metadata": {
        "id": "Ng6GVQyOuimd"
      },
      "execution_count": null,
      "outputs": []
    },
    {
      "cell_type": "markdown",
      "source": [
        "Question 4: Create a bar chart of music played per day. Then print the following:\n",
        "\"I think I listen to music mostly on DAYOFWEEK because...\"\n"
      ],
      "metadata": {
        "id": "ll7CFydsulr8"
      }
    },
    {
      "cell_type": "code",
      "source": [
        "#Your code goes here"
      ],
      "metadata": {
        "id": "Qm_77xqDu9G2"
      },
      "execution_count": null,
      "outputs": []
    },
    {
      "cell_type": "markdown",
      "source": [],
      "metadata": {
        "id": "QlCbndu5XxSZ"
      }
    },
    {
      "cell_type": "markdown",
      "source": [
        "Question 5: Create one more visualization (a graph or chart) that you think would be meaningful, then print why you think it is meaningful"
      ],
      "metadata": {
        "id": "FW65lNEYu_Ao"
      }
    },
    {
      "cell_type": "code",
      "source": [
        "#Your code goes here"
      ],
      "metadata": {
        "id": "mH6w1-SRvMCe"
      },
      "execution_count": null,
      "outputs": []
    },
    {
      "cell_type": "markdown",
      "source": [
        "Question 6: Improve your playlist analyzer in any way you can. Some suggestions\n",
        "\n",
        "\n",
        "*   Add more rows to your dataset\n",
        "*   Add styling and theme, for example colour your charts and graphs\n",
        "*   Add a welcome screen, title,description, etc\n",
        "\n"
      ],
      "metadata": {
        "id": "Qh6_g8dZvQjL"
      }
    },
    {
      "cell_type": "code",
      "source": [],
      "metadata": {
        "id": "-fZTnpUnXx4l"
      },
      "execution_count": null,
      "outputs": []
    },
    {
      "cell_type": "markdown",
      "source": [
        "Question 7: Push your project to your github account!"
      ],
      "metadata": {
        "id": "FoiknhxHv9MV"
      }
    }
  ]
}
