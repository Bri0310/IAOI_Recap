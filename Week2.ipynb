{
  "nbformat": 4,
  "nbformat_minor": 0,
  "metadata": {
    "colab": {
      "provenance": [],
      "include_colab_link": true
    },
    "kernelspec": {
      "name": "python3",
      "display_name": "Python 3"
    },
    "language_info": {
      "name": "python"
    }
  },
  "cells": [
    {
      "cell_type": "markdown",
      "metadata": {
        "id": "view-in-github",
        "colab_type": "text"
      },
      "source": [
        "<a href=\"https://colab.research.google.com/github/Bri0310/IAOI_Recap/blob/main/Week2.ipynb\" target=\"_parent\"><img src=\"https://colab.research.google.com/assets/colab-badge.svg\" alt=\"Open In Colab\"/></a>"
      ]
    },
    {
      "cell_type": "markdown",
      "source": [
        "Hi! Welcome to Week 2, where we focused on data handling. We were introduced to six commonly used external libraries and tools for handling data:\n",
        "\n",
        "\n",
        "*   NumPy\n",
        "*   Pandas:\n",
        "*   Matplotlib\n",
        "*   Scikit-learn\n",
        "*   Tensor/Tensorflow\n",
        "*   Pytorch\n",
        "\n",
        "If you're wondering, a library is just a collection of code that you can use in your own program. It is a great way to make tasks easier and avoid writing code from scratch that already exists. You can import libraries as follows:\n",
        "\n",
        "\n"
      ],
      "metadata": {
        "id": "a83uwi0HPAJ8"
      }
    },
    {
      "cell_type": "code",
      "source": [
        "import math\n",
        "print(math.pi)\n",
        "\n",
        "import numpy as np #by using the alias np, we can use this library more quickly\n",
        "print(np.pi)\n",
        "\n",
        "from pandas import * #you can make everything in the module accessible like this\n",
        "#I don't recommend using this method often, as this may result in unnecessary library conflicts"
      ],
      "metadata": {
        "colab": {
          "base_uri": "https://localhost:8080/"
        },
        "id": "ZvnxlJQCdV0e",
        "outputId": "1f160d16-f0ff-4b98-f23d-1064b64ba613"
      },
      "execution_count": null,
      "outputs": [
        {
          "output_type": "stream",
          "name": "stdout",
          "text": [
            "3.141592653589793\n",
            "3.141592653589793\n"
          ]
        }
      ]
    },
    {
      "cell_type": "markdown",
      "source": [
        "If you ever use a library and need help understanding your code, you an use the following tools (given an example ndarray from numpy)\n",
        "\n",
        "nums = numpy.random.randint(low=0,high=10,size=8)\n",
        "\n",
        "*   type(nums): tells you what it is\n",
        "*   print(dir(nums)): lists all of the things that can be one with it, ie the object's methods\n",
        "*   help(nums.ravel): explains the method, and suggests documentation\n",
        "\n",
        "\n",
        "\n"
      ],
      "metadata": {
        "id": "9SfoQ_A9NB9v"
      }
    },
    {
      "cell_type": "markdown",
      "source": [
        "#Note for IDE users\n",
        "Please note that if you are using a local IDE like Visual Studio Code you will have to install any external libraries, for instance numpy. There are many ways to do this, for example by:\n",
        "\n",
        "\n",
        "*   Downloading the library from the website\n",
        "*   Using pip install to download each external library\n",
        "*   Adding all external libraries to a requirements.txt file then using pip install to download everything in the file\n",
        "\n",
        "If you need many different libraries for a single project, I strongly recommend creating the requirements.txt file.\n",
        "\n",
        "Furthermore, I strongly recommend either creating a virtual environment/venv(easier) or containerizing the project, for example with Docker (more complex). We will not cover these options just yet, but feel free to research them in your spare time.\n",
        "\n",
        "### If all of this is a bit too much right now, simply use colab.research.google.com. No need for installations there!\n",
        "\n",
        "Now, let's review what we covered for these libraries"
      ],
      "metadata": {
        "id": "yp6Iiu9zeofB"
      }
    },
    {
      "cell_type": "markdown",
      "source": [
        "## Numpy\n",
        "[Documentation](https://numpy.org/doc/stable/index.html)\n",
        "\n",
        "Numpy, or Numerical Python, is the library upon which most other popular libraries used in machine learning are built. Numpy, most notably, includes the ndarray datatype. This is a multidemensional array object: a gridlike structure that holds data in any number of dimmentions.\n",
        "\n",
        "Numpy arrays are typically used in place of native python data types.\n",
        "\n",
        "####Python Lists vs Numpy Arrays\n",
        "\n",
        "Python Lists\n",
        "\n",
        "*   Can contain different data types\n",
        "*   Uses more space in memory than numpy arrays\n",
        "\n",
        "Numpy Arrays\n",
        "\n",
        "*   Can only contain a single data type\n",
        "*   Uses less space in memory than python lists\n",
        "\n",
        "\n",
        "\n",
        "\n",
        "\n",
        "\n"
      ],
      "metadata": {
        "id": "D7aitjtDdBwU"
      }
    },
    {
      "cell_type": "code",
      "source": [
        "import numpy as np #Note that as long as the runtime is active I don't need to re-import these, I'm just doing it in case yours resets and you don't realize!\n",
        "\n",
        "#This is an example of a 1-dementional array. It looks like a python list\n",
        "lst = [1,3,2]\n",
        "arr = np.array(lst)\n",
        "print(arr)\n",
        "type(arr)\n",
        "\n",
        "#Here is a two dimentional array, a list of lists\n",
        "lst2 = [[2,9,3],[5,6,9],[9,2,7]]\n",
        "arr2 = np.array(lst2)\n",
        "print(arr2)\n",
        "type(arr2)"
      ],
      "metadata": {
        "colab": {
          "base_uri": "https://localhost:8080/"
        },
        "id": "nLsxE118GzMx",
        "outputId": "255f5a47-05ae-4ecc-9570-17f98bb146f5"
      },
      "execution_count": null,
      "outputs": [
        {
          "output_type": "stream",
          "name": "stdout",
          "text": [
            "[1 3 2]\n",
            "[[2 9 3]\n",
            " [5 6 9]\n",
            " [9 2 7]]\n"
          ]
        },
        {
          "output_type": "execute_result",
          "data": {
            "text/plain": [
              "numpy.ndarray"
            ]
          },
          "metadata": {},
          "execution_count": 5
        }
      ]
    },
    {
      "cell_type": "code",
      "source": [
        "import numpy as np\n",
        "\n",
        "#Instead of creating an array from a python list, you can use some numpy functions\n",
        "print(\"Like this:\", np.zeros((5,3))) #accepts tuple with array shape\n",
        "print(\"Or this:\", np.random.random((2,4))) #accepts tuple with array shape\n",
        "print(\"Oooor this:\", np.arange(-2,3,6)) #Can also accept a third value for step size"
      ],
      "metadata": {
        "colab": {
          "base_uri": "https://localhost:8080/"
        },
        "id": "hI7UGeJtIWKh",
        "outputId": "cc7a003d-294b-4e5d-a378-00185bbc8d99"
      },
      "execution_count": null,
      "outputs": [
        {
          "output_type": "stream",
          "name": "stdout",
          "text": [
            "Like this: [[0. 0. 0.]\n",
            " [0. 0. 0.]\n",
            " [0. 0. 0.]\n",
            " [0. 0. 0.]\n",
            " [0. 0. 0.]]\n",
            "Or this: [[0.23699891 0.79550907 0.30135526 0.75613215]\n",
            " [0.719881   0.6115445  0.41917392 0.98159894]]\n",
            "Oooor this: [-2 -1  0  1  2  3  4  5]\n"
          ]
        }
      ]
    },
    {
      "cell_type": "code",
      "source": [
        "#One of the coolest things about numpy arrays is that you can make changes to each element of the array at once, for example:\n",
        "\n",
        "arr = np.array([1, 2, 3, 4, 5])\n",
        "arr_addone = arr + 1\n",
        "#print(arr)\n",
        "#print(arr_addone)\n",
        "\n",
        "arr_add3 = arr\n",
        "arr_add3 += 3 #This is the same as saying arr_add3 = arr_add3 + 3\n",
        "#print(arr)\n",
        "print(arr_add3)\n",
        "\n",
        "#This is much faster than using python to loop through the array, and add to each object"
      ],
      "metadata": {
        "colab": {
          "base_uri": "https://localhost:8080/"
        },
        "id": "ibsGJpbRYXZF",
        "outputId": "4ef85fb0-fb3b-467e-8326-cf8b36008de1"
      },
      "execution_count": null,
      "outputs": [
        {
          "output_type": "stream",
          "name": "stdout",
          "text": [
            "[4 5 6 7 8]\n"
          ]
        }
      ]
    },
    {
      "cell_type": "markdown",
      "source": [
        "##Pandas\n",
        "\n",
        "[Documentation](https://pandas.pydata.org/docs/)\n",
        "\n",
        "Pandas is popular library built on numpy used for data manipulation and visualization. It allows you to create two datatypes: dataframes and series.\n",
        "\n",
        "*  A series is a 1D labeled array\n",
        "*  A dataframe is a 2D labeled array (like a table, or a spreadsheet)\n",
        "\n",
        "Pandas is usually used to read, clean and transform data, as well as perform group operations.\n",
        "\n",
        "###Dataframes\n",
        "All values in a column have the same datatype, but valeus in different columns can have different datatypes, even if they're in the same row\n",
        "\n"
      ],
      "metadata": {
        "id": "JlSfCyPPMxqV"
      }
    },
    {
      "cell_type": "code",
      "source": [
        "import numpy as np #Import numpy as well when using pandas\n",
        "import pandas as pd\n",
        "\n",
        "# Here we are creating a data frame, called df, from a python dictionary\n",
        "data = {'Name': ['Alice', 'Bob', 'Charlie'], 'Age': [25, 30, 35]}\n",
        "df = pd.DataFrame(data)\n",
        "print(df) # notice how it looks like an indexed table"
      ],
      "metadata": {
        "colab": {
          "base_uri": "https://localhost:8080/"
        },
        "id": "4dOfkr-kPmqI",
        "outputId": "cd501941-9143-4e2f-c243-d0cae0e5bef2"
      },
      "execution_count": null,
      "outputs": [
        {
          "output_type": "stream",
          "name": "stdout",
          "text": [
            "      Name  Age\n",
            "0    Alice   25\n",
            "1      Bob   30\n",
            "2  Charlie   35\n"
          ]
        }
      ]
    },
    {
      "cell_type": "code",
      "source": [
        "import numpy as np\n",
        "import pandas as pd\n",
        "\n",
        "#Usually, you load data that you have downloaded locally as follows\n",
        "#data = pd.read_csv('yourfilename.csv')\n",
        "\n",
        "#If you are using colab, you can upload your data to google colab with the following code\n",
        "#from google.colab import files\n",
        "#uploaded = files.upload()\n",
        "\n",
        "#For testing purposes though, I will import a test dataset as follows:\n",
        "import seaborn as sns\n",
        "data = sns.load_dataset(\"titanic\")\n",
        "\n",
        "#You can also try creating your own dataframe and use that one to test\n",
        "#Let's take a look at a few methods in pandas\n",
        "\n",
        "print(data.head()) #use this to view the first 5 rows of a dataframe"
      ],
      "metadata": {
        "colab": {
          "base_uri": "https://localhost:8080/"
        },
        "id": "Wx15BuOrRXnW",
        "outputId": "5a46d0f4-2990-4685-acea-f14d2e53f4e5"
      },
      "execution_count": null,
      "outputs": [
        {
          "output_type": "stream",
          "name": "stdout",
          "text": [
            "   survived  pclass     sex   age  sibsp  parch     fare embarked  class  \\\n",
            "0         0       3    male  22.0      1      0   7.2500        S  Third   \n",
            "1         1       1  female  38.0      1      0  71.2833        C  First   \n",
            "2         1       3  female  26.0      0      0   7.9250        S  Third   \n",
            "3         1       1  female  35.0      1      0  53.1000        S  First   \n",
            "4         0       3    male  35.0      0      0   8.0500        S  Third   \n",
            "\n",
            "     who  adult_male deck  embark_town alive  alone  \n",
            "0    man        True  NaN  Southampton    no  False  \n",
            "1  woman       False    C    Cherbourg   yes  False  \n",
            "2  woman       False  NaN  Southampton   yes   True  \n",
            "3  woman       False    C  Southampton   yes  False  \n",
            "4    man        True  NaN  Southampton    no   True  \n"
          ]
        }
      ]
    },
    {
      "cell_type": "code",
      "source": [
        "print(\"Shape:\", data.shape) #show rows and columns\n",
        "print(\"\\n\")\n",
        "\n",
        "\n",
        "print(\"Columns:\", data.columns) #View column names\n",
        "print(\"\\n\")\n",
        "\n",
        "print(\"Data types:\\n\", data.dtypes) #View column datatypes\n",
        "print(\"\\n\")\n",
        "\n",
        "print(\"Summary statistics:\\n\", data.describe()) #Gives summary statistics\n",
        "print(\"\\n\")\n",
        "\n"
      ],
      "metadata": {
        "colab": {
          "base_uri": "https://localhost:8080/"
        },
        "id": "2sGusFa4T6OO",
        "outputId": "55e2db89-f6e1-4962-9ebb-b6ca41c59846"
      },
      "execution_count": null,
      "outputs": [
        {
          "output_type": "stream",
          "name": "stdout",
          "text": [
            "Columns: Index(['survived', 'pclass', 'sex', 'age', 'sibsp', 'parch', 'fare',\n",
            "       'embarked', 'class', 'who', 'adult_male', 'deck', 'embark_town',\n",
            "       'alive', 'alone'],\n",
            "      dtype='object')\n",
            "\n",
            "\n",
            "Data types:\n",
            " survived          int64\n",
            "pclass            int64\n",
            "sex              object\n",
            "age             float64\n",
            "sibsp             int64\n",
            "parch             int64\n",
            "fare            float64\n",
            "embarked         object\n",
            "class          category\n",
            "who              object\n",
            "adult_male         bool\n",
            "deck           category\n",
            "embark_town      object\n",
            "alive            object\n",
            "alone              bool\n",
            "dtype: object\n",
            "\n",
            "\n",
            "Summary statistics:\n",
            "          survived      pclass         age       sibsp       parch        fare\n",
            "count  891.000000  891.000000  714.000000  891.000000  891.000000  891.000000\n",
            "mean     0.383838    2.308642   29.699118    0.523008    0.381594   32.204208\n",
            "std      0.486592    0.836071   14.526497    1.102743    0.806057   49.693429\n",
            "min      0.000000    1.000000    0.420000    0.000000    0.000000    0.000000\n",
            "25%      0.000000    2.000000   20.125000    0.000000    0.000000    7.910400\n",
            "50%      0.000000    3.000000   28.000000    0.000000    0.000000   14.454200\n",
            "75%      1.000000    3.000000   38.000000    1.000000    0.000000   31.000000\n",
            "max      1.000000    3.000000   80.000000    8.000000    6.000000  512.329200\n",
            "\n",
            "\n",
            "Missing values per column:\n",
            " survived         0\n",
            "pclass           0\n",
            "sex              0\n",
            "age            177\n",
            "sibsp            0\n",
            "parch            0\n",
            "fare             0\n",
            "embarked         2\n",
            "class            0\n",
            "who              0\n",
            "adult_male       0\n",
            "deck           688\n",
            "embark_town      2\n",
            "alive            0\n",
            "alone            0\n",
            "dtype: int64\n"
          ]
        }
      ]
    },
    {
      "cell_type": "code",
      "source": [
        "print(\"Missing values per column:\\n\", data.isnull().sum()) #Shows number of null/NaN/empty values\n",
        "print(\"\\n\")\n",
        "\n",
        "print(\"Unique values:\\n\", data.nunique()) #Shows number of unique values"
      ],
      "metadata": {
        "colab": {
          "base_uri": "https://localhost:8080/"
        },
        "id": "GwBf98TTk9Rx",
        "outputId": "f5ae86aa-9750-4b77-dc3e-1a8eed8fbef3"
      },
      "execution_count": null,
      "outputs": [
        {
          "output_type": "stream",
          "name": "stdout",
          "text": [
            "Missing values per column:\n",
            " survived         0\n",
            "pclass           0\n",
            "sex              0\n",
            "age            177\n",
            "sibsp            0\n",
            "parch            0\n",
            "fare             0\n",
            "embarked         2\n",
            "class            0\n",
            "who              0\n",
            "adult_male       0\n",
            "deck           688\n",
            "embark_town      2\n",
            "alive            0\n",
            "alone            0\n",
            "dtype: int64\n",
            "\n",
            "\n",
            "Unique values:\n",
            " survived         2\n",
            "pclass           3\n",
            "sex              2\n",
            "age             88\n",
            "sibsp            7\n",
            "parch            7\n",
            "fare           248\n",
            "embarked         3\n",
            "class            3\n",
            "who              3\n",
            "adult_male       2\n",
            "deck             7\n",
            "embark_town      3\n",
            "alive            2\n",
            "alone            2\n",
            "dtype: int64\n"
          ]
        }
      ]
    },
    {
      "cell_type": "markdown",
      "source": [
        "##Matplotlib\n",
        "[Documentation](https://matplotlib.org/stable/users/index.html)\n",
        "\n",
        "Matplotlib is a graphing and plotting library used to make a variety of charts and graphs, such as line graphs, bar charts, histograms, scatter plots, and much more.\n",
        "\n",
        "Take some time to research which graphs and charts are best to use in different situations, for example depending on the type of data being visualized, the reason for visualizing the data or the number of rows/columns.\n",
        "\n"
      ],
      "metadata": {
        "id": "dSIgjbwjMqd7"
      }
    },
    {
      "cell_type": "code",
      "source": [
        "import matplotlib.pyplot as plt\n",
        "\n",
        "x = [1, 2, 3, 4]\n",
        "y = [10, 15, 13, 17]\n",
        "\n",
        "plt.plot(x, y)\n",
        "plt.title(\"Here is an example of a line graph. Try drawing other graphs!\")\n",
        "plt.xlabel(\"X Axis\")\n",
        "plt.ylabel(\"Y Axis\")\n",
        "plt.show()"
      ],
      "metadata": {
        "colab": {
          "base_uri": "https://localhost:8080/",
          "height": 472
        },
        "id": "ky1-zxYpJKS_",
        "outputId": "f8aa204a-d366-4218-a012-70d47869bd73"
      },
      "execution_count": null,
      "outputs": [
        {
          "output_type": "display_data",
          "data": {
            "text/plain": [
              "<Figure size 640x480 with 1 Axes>"
            ],
            "image/png": "[encoded data removed]"
          },
          "metadata": {}
        }
      ]
    },
    {
      "cell_type": "markdown",
      "source": [
        "##Scikit-learn\n",
        "[Documentation](https://scikit-learn.org/stable/index.html)\n",
        "\n",
        "Scikit-learn, which I keep spelling incorrectly, is a powerful machine learning library. It is usually used for classification, regression, or even evaluation. It is very often used with numpy.\n",
        "\n",
        "We did not really go into depth with this one, but check out the example below. We will learn more later though, so still take a look at this documentation!"
      ],
      "metadata": {
        "id": "g2hKc-A7RI0U"
      }
    },
    {
      "cell_type": "code",
      "source": [
        "from sklearn.linear_model import LinearRegression\n",
        "import numpy as np\n",
        "\n",
        "x = np.array([[1], [2], [3], [4]])\n",
        "y = np.array([2, 4, 6, 8])\n",
        "\n",
        "model = LinearRegression()\n",
        "model.fit(x, y)\n",
        "\n",
        "print(\"Prediction for 5:\", model.predict([[5]]))"
      ],
      "metadata": {
        "colab": {
          "base_uri": "https://localhost:8080/"
        },
        "id": "6z5dlAwJKx28",
        "outputId": "378cc894-c6b3-4bc2-9ddf-9fd9f888e602"
      },
      "execution_count": null,
      "outputs": [
        {
          "output_type": "stream",
          "name": "stdout",
          "text": [
            "Prediction for 5: [10.]\n"
          ]
        }
      ]
    },
    {
      "cell_type": "markdown",
      "source": [
        "##Tensorflow\n",
        "[Documentation](https://www.tensorflow.org/guide)\n",
        "\n",
        "Tensorflow is a library often used for deep learning and neural networks.\n",
        "\n",
        "We did not really go into depth with this one, but check out the example below. We will learn more later though, so still take a look at this documentation!"
      ],
      "metadata": {
        "id": "sXnX7oiHPkx5"
      }
    },
    {
      "cell_type": "code",
      "source": [
        "import tensorflow as tf\n",
        "\n",
        "model = tf.keras.Sequential([\n",
        "    tf.keras.layers.Dense(4, input_shape=(2,), activation='relu'),\n",
        "    tf.keras.layers.Dense(1)\n",
        "])\n",
        "\n",
        "model.compile(optimizer='adam', loss='mse')\n",
        "model.summary()"
      ],
      "metadata": {
        "colab": {
          "base_uri": "https://localhost:8080/",
          "height": 249
        },
        "id": "qI_OjGixLw__",
        "outputId": "44414df0-c01a-4419-9a4e-2ea46302d59a"
      },
      "execution_count": null,
      "outputs": [
        {
          "output_type": "stream",
          "name": "stderr",
          "text": [
            "/usr/local/lib/python3.11/dist-packages/keras/src/layers/core/dense.py:87: UserWarning: Do not pass an `input_shape`/`input_dim` argument to a layer. When using Sequential models, prefer using an `Input(shape)` object as the first layer in the model instead.\n",
            "  super().__init__(activity_regularizer=activity_regularizer, **kwargs)\n"
          ]
        },
        {
          "output_type": "display_data",
          "data": {
            "text/plain": [
              "\u001b[1mModel: \"sequential\"\u001b[0m\n"
            ],
            "text/html": [
              "<pre style=\"white-space:pre;overflow-x:auto;line-height:normal;font-family:Menlo,'DejaVu Sans Mono',consolas,'Courier New',monospace\"><span style=\"font-weight: bold\">Model: \"sequential\"</span>\n",
              "</pre>\n"
            ]
          },
          "metadata": {}
        },
        {
          "output_type": "display_data",
          "data": {
            "text/plain": [
              "┏━━━━━━━━━━━━━━━━━━━━━━━━━━━━━━━━━┳━━━━━━━━━━━━━━━━━━━━━━━━┳━━━━━━━━━━━━━━━┓\n",
              "┃\u001b[1m \u001b[0m\u001b[1mLayer (type)                   \u001b[0m\u001b[1m \u001b[0m┃\u001b[1m \u001b[0m\u001b[1mOutput Shape          \u001b[0m\u001b[1m \u001b[0m┃\u001b[1m \u001b[0m\u001b[1m      Param #\u001b[0m\u001b[1m \u001b[0m┃\n",
              "┡━━━━━━━━━━━━━━━━━━━━━━━━━━━━━━━━━╇━━━━━━━━━━━━━━━━━━━━━━━━╇━━━━━━━━━━━━━━━┩\n",
              "│ dense (\u001b[38;5;33mDense\u001b[0m)                   │ (\u001b[38;5;45mNone\u001b[0m, \u001b[38;5;34m4\u001b[0m)              │            \u001b[38;5;34m12\u001b[0m │\n",
              "├─────────────────────────────────┼────────────────────────┼───────────────┤\n",
              "│ dense_1 (\u001b[38;5;33mDense\u001b[0m)                 │ (\u001b[38;5;45mNone\u001b[0m, \u001b[38;5;34m1\u001b[0m)              │             \u001b[38;5;34m5\u001b[0m │\n",
              "└─────────────────────────────────┴────────────────────────┴───────────────┘\n"
            ],
            "text/html": [
              "<pre style=\"white-space:pre;overflow-x:auto;line-height:normal;font-family:Menlo,'DejaVu Sans Mono',consolas,'Courier New',monospace\">┏━━━━━━━━━━━━━━━━━━━━━━━━━━━━━━━━━┳━━━━━━━━━━━━━━━━━━━━━━━━┳━━━━━━━━━━━━━━━┓\n",
              "┃<span style=\"font-weight: bold\"> Layer (type)                    </span>┃<span style=\"font-weight: bold\"> Output Shape           </span>┃<span style=\"font-weight: bold\">       Param # </span>┃\n",
              "┡━━━━━━━━━━━━━━━━━━━━━━━━━━━━━━━━━╇━━━━━━━━━━━━━━━━━━━━━━━━╇━━━━━━━━━━━━━━━┩\n",
              "│ dense (<span style=\"color: #0087ff; text-decoration-color: #0087ff\">Dense</span>)                   │ (<span style=\"color: #00d7ff; text-decoration-color: #00d7ff\">None</span>, <span style=\"color: #00af00; text-decoration-color: #00af00\">4</span>)              │            <span style=\"color: #00af00; text-decoration-color: #00af00\">12</span> │\n",
              "├─────────────────────────────────┼────────────────────────┼───────────────┤\n",
              "│ dense_1 (<span style=\"color: #0087ff; text-decoration-color: #0087ff\">Dense</span>)                 │ (<span style=\"color: #00d7ff; text-decoration-color: #00d7ff\">None</span>, <span style=\"color: #00af00; text-decoration-color: #00af00\">1</span>)              │             <span style=\"color: #00af00; text-decoration-color: #00af00\">5</span> │\n",
              "└─────────────────────────────────┴────────────────────────┴───────────────┘\n",
              "</pre>\n"
            ]
          },
          "metadata": {}
        },
        {
          "output_type": "display_data",
          "data": {
            "text/plain": [
              "\u001b[1m Total params: \u001b[0m\u001b[38;5;34m17\u001b[0m (68.00 B)\n"
            ],
            "text/html": [
              "<pre style=\"white-space:pre;overflow-x:auto;line-height:normal;font-family:Menlo,'DejaVu Sans Mono',consolas,'Courier New',monospace\"><span style=\"font-weight: bold\"> Total params: </span><span style=\"color: #00af00; text-decoration-color: #00af00\">17</span> (68.00 B)\n",
              "</pre>\n"
            ]
          },
          "metadata": {}
        },
        {
          "output_type": "display_data",
          "data": {
            "text/plain": [
              "\u001b[1m Trainable params: \u001b[0m\u001b[38;5;34m17\u001b[0m (68.00 B)\n"
            ],
            "text/html": [
              "<pre style=\"white-space:pre;overflow-x:auto;line-height:normal;font-family:Menlo,'DejaVu Sans Mono',consolas,'Courier New',monospace\"><span style=\"font-weight: bold\"> Trainable params: </span><span style=\"color: #00af00; text-decoration-color: #00af00\">17</span> (68.00 B)\n",
              "</pre>\n"
            ]
          },
          "metadata": {}
        },
        {
          "output_type": "display_data",
          "data": {
            "text/plain": [
              "\u001b[1m Non-trainable params: \u001b[0m\u001b[38;5;34m0\u001b[0m (0.00 B)\n"
            ],
            "text/html": [
              "<pre style=\"white-space:pre;overflow-x:auto;line-height:normal;font-family:Menlo,'DejaVu Sans Mono',consolas,'Courier New',monospace\"><span style=\"font-weight: bold\"> Non-trainable params: </span><span style=\"color: #00af00; text-decoration-color: #00af00\">0</span> (0.00 B)\n",
              "</pre>\n"
            ]
          },
          "metadata": {}
        }
      ]
    },
    {
      "cell_type": "markdown",
      "source": [
        "##Pytorch\n",
        "\n",
        "Pytorch is a library used for deep learning and neural networks.\n",
        "\n",
        "We did not really go into depth with this one, but check out the example below. We will learn more later though, so still take a look at this documentation!"
      ],
      "metadata": {
        "id": "DcVdQWwFREJ1"
      }
    },
    {
      "cell_type": "code",
      "source": [
        "import torch\n",
        "\n",
        "x = torch.tensor([1.0, 2.0, 3.0])\n",
        "print(x)\n",
        "print(\"Shape:\", x.shape)\n",
        "print(\"Tensor type:\", type(x))"
      ],
      "metadata": {
        "colab": {
          "base_uri": "https://localhost:8080/"
        },
        "id": "95j6dTo-KRoD",
        "outputId": "49803612-5d35-425f-91f9-681942fa1daf"
      },
      "execution_count": null,
      "outputs": [
        {
          "output_type": "stream",
          "name": "stdout",
          "text": [
            "tensor([1., 2., 3.])\n",
            "Shape: torch.Size([3])\n",
            "Tensor type: <class 'torch.Tensor'>\n"
          ]
        }
      ]
    },
    {
      "cell_type": "markdown",
      "source": [
        "After being introduced to these libraries, we did a small project using the three libraries that we discussed most heavily: numpy, pandas and matplotlib. Here I have included the project as well as possible answers.\n"
      ],
      "metadata": {
        "id": "n-A9AxEpnA40"
      }
    },
    {
      "cell_type": "markdown",
      "source": [
        "##Project 1: Data Manipulation\n",
        "For today's activity, we will creating a playlist analyzer, and using it to determine your top artist and other listening patterns.\n",
        "\n",
        "As per usual, each question should be answered in a separate cell.\n",
        "\n",
        "\n"
      ],
      "metadata": {
        "id": "W_L97rtenczX"
      }
    },
    {
      "cell_type": "markdown",
      "source": [
        "Question 1: Create a data frame called playlist with the following information:\n",
        "\n",
        "\n",
        "1.   Eight songs of your choice in a column 'Song'. I recommend choosing your 8 favourite songs.\n",
        "2.   The artists for those songs in a column 'Artist'\n",
        "3.   The vibe for those songs in a column 'Energy'. The vibe should be on a 0 to 1 scale, with 1 being highest energy and 0 being lowest energy.\n",
        "4.   The day that the song was played in a column 'Day_Played'.\n",
        "\n",
        "Print the playlist, then show the first 5 rows of the playlist"
      ],
      "metadata": {
        "id": "SluVbRiIp_tX"
      }
    },
    {
      "cell_type": "code",
      "source": [
        "import numpy as np\n",
        "import pandas as pd\n",
        "\n",
        "data = {'Song':['Black is Beautiful', 'Planet Hurt', 'Ghetto Mi Born', 'Use to Hungry', 'Mercy A God', 'God Is Love','God Is Real', 'God Is Real'] , 'Artiste' : ['Chronixx', 'Nhance', 'Nhance', 'Vershon', 'Vershon', 'Popcaan', '1Emma', '1Emma'] , 'Energy' : ['1', '1', '1', '1', '1', '1', '1', '1'] , 'Day_Played' : ['Saturday', 'Saturday', 'Saturday', 'Saturday', 'Saturday', 'Saturday', 'Saturday', 'Saturday']}\n",
        "df = pd.DataFrame(data)\n",
        "print(df.head())"
      ],
      "metadata": {
        "id": "q-ogUc71rSx9",
        "outputId": "30532065-9410-403a-d5b7-a1e7914fb29d",
        "colab": {
          "base_uri": "https://localhost:8080/"
        }
      },
      "execution_count": 1,
      "outputs": [
        {
          "output_type": "stream",
          "name": "stdout",
          "text": [
            "                 Song   Artiste Energy Day_Played\n",
            "0  Black is Beautiful  Chronixx      1   Saturday\n",
            "1         Planet Hurt    Nhance      1   Saturday\n",
            "2      Ghetto Mi Born    Nhance      1   Saturday\n",
            "3       Use to Hungry   Vershon      1   Saturday\n",
            "4         Mercy A God   Vershon      1   Saturday\n"
          ]
        }
      ]
    },
    {
      "cell_type": "markdown",
      "source": [
        "Question 2: Evaluate which artist is your top (most listened to) artist, then print the results"
      ],
      "metadata": {
        "id": "mYmi1Fs0rdQw"
      }
    },
    {
      "cell_type": "code",
      "source": [
        "artiste_counts = df['Artiste'].value_counts()\n",
        "top_artiste = artiste_counts.index[0]\n",
        "print(f'The top artsiste is: {top_artiste} with {artiste_counts.max()} songs played')"
      ],
      "metadata": {
        "id": "M4cHmOm4mqwD",
        "colab": {
          "base_uri": "https://localhost:8080/"
        },
        "outputId": "a406b02b-4225-4897-db5d-4df8c9c29d8a"
      },
      "execution_count": null,
      "outputs": [
        {
          "output_type": "stream",
          "name": "stdout",
          "text": [
            "The top artsiste is: Nhance with 2 songs played\n"
          ]
        }
      ]
    },
    {
      "cell_type": "markdown",
      "source": [
        "Question 3: Evaluate your average energy level.\n",
        "\n",
        "\n",
        "*   If your average energy level is less than 0.4, print something interesting like \"I'm just a chill guy\"\n",
        "*   If your average energy level is more than 0.6, print something interesting\n",
        "*   If your average energy level is between 0.4 and 0.6 (inclusive of these numbers) print something interesting\n",
        "\n",
        "\n",
        "\n",
        "\n",
        "\n",
        "\n"
      ],
      "metadata": {
        "id": "pw-S6Wjos_pO"
      }
    },
    {
      "cell_type": "code",
      "source": [
        "import math as pi\n",
        "\n",
        "df['Energy'] = pd.to_numeric(df ['Energy'], errors='coerce')\n",
        "\n",
        "average_energy = df['Energy'].mean()\n",
        "\n",
        "if average_energy < 0.4:\n",
        "  print(\"I'm just a chill guy\")\n",
        "\n",
        "  if average_energy > 0.6:\n",
        "    print(\"I'm a high energy person!\")\n",
        "\n",
        "if average_energy < 0.4:\n",
        "  print(\"I'm just a chill guy\")\n",
        "\n",
        "if average_energy > 0.6:\n",
        "    print(\"I'm a high-energy person!\")\n",
        "\n",
        "if 0.4 <= average_energy <= 0.6:\n",
        "      print(\"I'm a middle energy person\")"
      ],
      "metadata": {
        "colab": {
          "base_uri": "https://localhost:8080/"
        },
        "id": "becgyUo089uV",
        "outputId": "5a67e75a-1956-4505-f11d-1c21ca718e52"
      },
      "execution_count": null,
      "outputs": [
        {
          "output_type": "stream",
          "name": "stdout",
          "text": [
            "I'm a high-energy person!\n"
          ]
        }
      ]
    },
    {
      "cell_type": "markdown",
      "source": [
        "Question 4: Create a bar chart of music played per day. Then print the following:\n",
        "\"I think I listen to music mostly on DAYOFWEEK because...\"\n"
      ],
      "metadata": {
        "id": "ll7CFydsulr8"
      }
    },
    {
      "cell_type": "code",
      "source": [
        "import pandas as pd\n",
        "import matplotlib.pyplot as plt\n",
        "\n",
        "\n",
        "\n",
        "daily_play_count = df.groupby('Day_Played').size().reset_index(name='play_count')\n",
        "\n",
        "plt.figure(figsize=(10,6))\n",
        "plt.bar(daily_play_count['Day_Played'], daily_play_count['play_count'], color='blue')\n",
        "plt.xlabel('Days Of The Week')\n",
        "plt.ylabel('Play Count')\n",
        "plt.title('Daily Play Count')\n",
        "plt.show()\n",
        "\n",
        "most_played_day = daily_play_count.loc[daily_play_count['play_count'].idxmax(), 'Day_Played']\n",
        "print(f\"I think I listen to music mostly on {most_played_day} because it makes me feel relaxed\")\n",
        "\n",
        "\n"
      ],
      "metadata": {
        "colab": {
          "base_uri": "https://localhost:8080/",
          "height": 500
        },
        "id": "032Zt0AtB180",
        "outputId": "ccfc38fa-7aab-4707-d034-dafa2ff03f0f"
      },
      "execution_count": 11,
      "outputs": [
        {
          "output_type": "display_data",
          "data": {
            "text/plain": [
              "<Figure size 1000x600 with 1 Axes>"
            ],
            "image/png": "[encoded data removed]"
          },
          "metadata": {}
        },
        {
          "output_type": "stream",
          "name": "stdout",
          "text": [
            "I think I listen to music mostly on Saturday because it makes me feel relaxed\n"
          ]
        }
      ]
    },
    {
      "cell_type": "code",
      "source": [
        "import numpy as np\n",
        "import pandas as pd\n",
        "\n",
        "data = {'Song':['Black is Beautiful', 'Planet Hurt', 'Ghetto Mi Born', 'Use to Hungry', 'Mercy A God', 'God Is Love','God Is Real', 'God Is Real'] , 'Artiste' : ['Chronixx', 'Nhance', 'Nhance', 'Vershon', 'Vershon', 'Popcaan', '1Emma', '1Emma'] , 'Energy' : ['1', '1', '1', '1', '1', '1', '1', '1'] , 'Day_Played' : ['Saturday', 'Saturday', 'Saturday', 'Saturday', 'Saturday', 'Saturday', 'Saturday', 'Saturday']}\n",
        "df = pd.DataFrame(data)\n",
        "print(df.head())"
      ],
      "metadata": {
        "id": "3NBJu31rRSH8",
        "outputId": "026254ff-0e11-4f01-dda8-2fe1f7c5cbd5",
        "colab": {
          "base_uri": "https://localhost:8080/"
        }
      },
      "execution_count": null,
      "outputs": [
        {
          "output_type": "stream",
          "name": "stdout",
          "text": [
            "                 Song   Artiste Energy Day_Played\n",
            "0  Black is Beautiful  Chronixx      1   Saturday\n",
            "1         Planet Hurt    Nhance      1   Saturday\n",
            "2      Ghetto Mi Born    Nhance      1   Saturday\n",
            "3       Use to Hungry   Vershon      1   Saturday\n",
            "4         Mercy A God   Vershon      1   Saturday\n"
          ]
        }
      ]
    },
    {
      "cell_type": "markdown",
      "source": [],
      "metadata": {
        "id": "QlCbndu5XxSZ"
      }
    },
    {
      "cell_type": "markdown",
      "source": [
        "Question 5: Create one more visualization (a graph or chart) that you think would be meaningful, then print why you think it is meaningful"
      ],
      "metadata": {
        "id": "FW65lNEYu_Ao"
      }
    },
    {
      "cell_type": "code",
      "source": [
        "import pandas as pd\n",
        "import matplotlib.pyplot as plt\n",
        "\n",
        "\n",
        "\n",
        "artiste_play_count = df.groupby('Artiste').size().reset_index(name='play_count')\n",
        "\n",
        "top_artistes = artiste_play_count.sort_values(by='play_count', ascending=False).head(10)\n",
        "\n",
        "plt.figure(figsize=(10,6))\n",
        "plt.bar(top_artistes['Artiste'], top_artistes['play_count'], color='pink')\n",
        "plt.xlabel('Artiste')\n",
        "plt.ylabel('Total Play Count')\n",
        "plt.title('Top 10 Most Played Artistes')\n",
        "plt.xticks(rotation=90) #Rotate x-axis labels for better readability.\")\n",
        "plt.show()\n",
        "\n",
        "print(\"This bar chart is meaningful because it shows which atristes I listen to the most, giving insight into my musical preference\")\n"
      ],
      "metadata": {
        "colab": {
          "base_uri": "https://localhost:8080/",
          "height": 548
        },
        "outputId": "1fccd7c8-6aa6-43ea-94df-14ee5a8563df",
        "id": "6c7hXAoZbbY5"
      },
      "execution_count": 8,
      "outputs": [
        {
          "output_type": "display_data",
          "data": {
            "text/plain": [
              "<Figure size 1000x600 with 1 Axes>"
            ],
            "image/png": "[encoded data removed]"
          },
          "metadata": {}
        },
        {
          "output_type": "stream",
          "name": "stdout",
          "text": [
            "This bar chart is meaningful because it shows which atristes I listen to the most, giving insight into my musical preference\n"
          ]
        }
      ]
    },
    {
      "cell_type": "markdown",
      "source": [
        "Question 6: Improve your playlist analyzer in any way you can. Some suggestions\n",
        "\n",
        "\n",
        "*   Add more rows to your dataset\n",
        "*   Add styling and theme, for example colour your charts and graphs\n",
        "*   Add a welcome screen, title,description, etc\n",
        "\n"
      ],
      "metadata": {
        "id": "Qh6_g8dZvQjL"
      }
    },
    {
      "cell_type": "code",
      "source": [
        "import pandas as pd\n",
        "import pandas as pd\n",
        "import matplotlib.pyplot as plt\n",
        "\n",
        "\n",
        "data = {'Song':['Black is Beautiful', 'Planet Hurt', 'Ghetto Mi Born', 'Use to Hungry', 'Mercy A God', 'God Is Love','God Is Real', 'God Is Real'] , 'Artiste' : ['Chronixx', 'Nhance', 'Nhance', 'Nhance', 'Chronicx', 'Chronicx', 'Chronicx', 'Chronicx'], 'Play Count' : [2, 5, 6, 10, 11, 14, 20, 25], 'Day Played' : ['Monday', 'Monday', 'Monday', 'Tuesday', 'Tuesday', 'Wednesday', 'Thursday', 'Friday']}\n",
        "\n",
        "data = pd.DataFrame(data)\n",
        "\n",
        "\n",
        "#updated_data = pd.concat([data, new_data])\n",
        "#updated_data.to_csv('your_data.csv', index=False)\n",
        "\n",
        "\n",
        "def welcome_screen():\n",
        "    print(\"Welcome to the Music Playlist Analyzer!\")\n",
        "    print(\"-----------------------------------------\")\n",
        "    print(\"This tool analyzes your music listening habits.\")\n",
        "    print(\"-----------------------------------------\")\n",
        "\n",
        "def load_data(file_path):\n",
        "    try:\n",
        "        data = pd.read_csv(file_path)\n",
        "        return data\n",
        "    except Exception as e:\n",
        "        print(f\"Failed to load data: {e}\")\n",
        "        return None\n",
        "\n",
        "\n",
        "def analyze_data(data):\n",
        "    daily_play_count = data.groupby('Day Played')['Play Count'].sum().reset_index()\n",
        "    top_artists = data.groupby('Artiste')['Play Count'].sum().reset_index().sort_values(by='Play Count', ascending=False).head(10)\n",
        "\n",
        "    plt.style.use('seaborn-v0_8-whitegrid')\n",
        "\n",
        "    plt.figure(figsize=(10,6))\n",
        "    plt.bar(daily_play_count['Day Played'], daily_play_count['Play Count'], color='skyblue')\n",
        "    plt.xlabel('Day of the Week')\n",
        "    plt.ylabel('Music Play Count')\n",
        "    plt.title('Music Played per Day of the Week')\n",
        "    plt.show()\n",
        "\n",
        "    plt.figure(figsize=(10,6))\n",
        "    plt.bar(top_artists['Artiste'], top_artists['Play Count'], color='lightgreen')\n",
        "    plt.xlabel('Artist')\n",
        "    plt.ylabel('Total Play Count')\n",
        "    plt.title('Top 10 Most Played Artists')\n",
        "    plt.xticks(rotation=90)\n",
        "    plt.show()\n",
        "\n",
        "def main():\n",
        "    welcome_screen()\n",
        "    #data = load_data('your_data.csv')\n",
        "    #if data is not None:\n",
        "    analyze_data(data)\n",
        "\n",
        "if __name__ == \"__main__\":\n",
        "    main()\n",
        "\n",
        "plt.style.use('data')\n",
        "daily_play_count = data.groupby('day_of_week')['play_count'].sum().reset_index()\n",
        "plt.figure(figsize=(10,6))\n",
        "plt.bar(daily_play_count['day_of_week'], daily_play_count['play_count'], color='skyblue')\n",
        "plt.xlabel('Day of the Week')\n",
        "plt.ylabel('Music Play Count')\n",
        "plt.title('Music Played per Day of the Week')\n",
        "plt.show()\n",
        "\n",
        "def welcome_screen():\n",
        "    print(\"Welcome to the Music Playlist Analyzer!\")\n",
        "    print(\"-----------------------------------------\")\n",
        "    print(\"This tool analyzes your music listening habits.\")\n",
        "    print(\"-----------------------------------------\")\n",
        "\n",
        "welcome_screen()\n",
        "\n",
        "import pandas as pd\n",
        "import matplotlib.pyplot as plt\n",
        "\n",
        "def welcome_screen():\n",
        "    print(\"Welcome to the Music Playlist Analyzer!\")\n",
        "    print(\"-----------------------------------------\")\n",
        "    print(\"This tool analyzes your music listening habits.\")\n",
        "    print(\"-----------------------------------------\")\n",
        "\n",
        "def load_data(file_path):\n",
        "    try:\n",
        "        data = pd.read_csv(file_path)\n",
        "        return data\n",
        "    except Exception as e:\n",
        "        print(f\"Failed to load data: {e}\")\n",
        "        return None\n",
        "\n",
        "\n",
        "def analyze_data(data):\n",
        "    daily_play_count = data.groupby('Day_Played')['play_count'].sum().reset_index()\n",
        "    top_artists = data.groupby('artist')['play_count'].sum().reset_index().sort_values(by='play_count', ascending=False).head(10)\n",
        "\n",
        "    plt.style.use('data')\n",
        "\n",
        "    plt.figure(figsize=(10,6))\n",
        "    plt.bar(daily_play_count['Day_ Played'], daily_play_count['play_count'], color='skyblue')\n",
        "    plt.xlabel('Day of the Week')\n",
        "    plt.ylabel('Music Play Count')\n",
        "    plt.title('Music Played per Day of the Week')\n",
        "    plt.show()\n",
        "\n",
        "    plt.figure(figsize=(10,6))\n",
        "    plt.bar(top_artists['artist'], top_artists['play_count'], color='lightgreen')\n",
        "    plt.xlabel('Artist')\n",
        "    plt.ylabel('Total Play Count')\n",
        "    plt.title('Top 10 Most Played Artists')\n",
        "    plt.xticks(rotation=90)\n",
        "    plt.show()\n",
        "\n",
        "def main():\n",
        "    welcome_screen()\n",
        "    data = load_data('your_data.csv')\n",
        "    if data is not None:\n",
        "        analyze_data(data)\n",
        "\n",
        "if __name__ == \"__main__\":\n",
        "    main()\n",
        "\n"
      ],
      "metadata": {
        "colab": {
          "base_uri": "https://localhost:8080/",
          "height": 1000
        },
        "id": "9BkBUF-jIkSI",
        "outputId": "a0129017-ef39-4cbe-a4b7-5dc99f2193b6"
      },
      "execution_count": 9,
      "outputs": [
        {
          "output_type": "stream",
          "name": "stdout",
          "text": [
            "Welcome to the Music Playlist Analyzer!\n",
            "-----------------------------------------\n",
            "This tool analyzes your music listening habits.\n",
            "-----------------------------------------\n"
          ]
        },
        {
          "output_type": "display_data",
          "data": {
            "text/plain": [
              "<Figure size 1000x600 with 1 Axes>"
            ],
            "image/png": "[encoded data removed]"
          },
          "metadata": {}
        },
        {
          "output_type": "display_data",
          "data": {
            "text/plain": [
              "<Figure size 1000x600 with 1 Axes>"
            ],
            "image/png": "[encoded data removed]"
          },
          "metadata": {}
        },
        {
          "output_type": "error",
          "ename": "OSError",
          "evalue": "'data' is not a valid package style, path of style file, URL of style file, or library style name (library styles are listed in `style.available`)",
          "traceback": [
            "\u001b[0;31m---------------------------------------------------------------------------\u001b[0m",
            "\u001b[0;31mFileNotFoundError\u001b[0m                         Traceback (most recent call last)",
            "\u001b[0;32m/usr/local/lib/python3.11/dist-packages/matplotlib/style/core.py\u001b[0m in \u001b[0;36muse\u001b[0;34m(style)\u001b[0m\n\u001b[1;32m    128\u001b[0m             \u001b[0;32mtry\u001b[0m\u001b[0;34m:\u001b[0m\u001b[0;34m\u001b[0m\u001b[0;34m\u001b[0m\u001b[0m\n\u001b[0;32m--> 129\u001b[0;31m                 \u001b[0mstyle\u001b[0m \u001b[0;34m=\u001b[0m \u001b[0m_rc_params_in_file\u001b[0m\u001b[0;34m(\u001b[0m\u001b[0mstyle\u001b[0m\u001b[0;34m)\u001b[0m\u001b[0;34m\u001b[0m\u001b[0;34m\u001b[0m\u001b[0m\n\u001b[0m\u001b[1;32m    130\u001b[0m             \u001b[0;32mexcept\u001b[0m \u001b[0mOSError\u001b[0m \u001b[0;32mas\u001b[0m \u001b[0merr\u001b[0m\u001b[0;34m:\u001b[0m\u001b[0;34m\u001b[0m\u001b[0;34m\u001b[0m\u001b[0m\n",
            "\u001b[0;32m/usr/local/lib/python3.11/dist-packages/matplotlib/__init__.py\u001b[0m in \u001b[0;36m_rc_params_in_file\u001b[0;34m(fname, transform, fail_on_error)\u001b[0m\n\u001b[1;32m    902\u001b[0m     \u001b[0mrc_temp\u001b[0m \u001b[0;34m=\u001b[0m \u001b[0;34m{\u001b[0m\u001b[0;34m}\u001b[0m\u001b[0;34m\u001b[0m\u001b[0;34m\u001b[0m\u001b[0m\n\u001b[0;32m--> 903\u001b[0;31m     \u001b[0;32mwith\u001b[0m \u001b[0m_open_file_or_url\u001b[0m\u001b[0;34m(\u001b[0m\u001b[0mfname\u001b[0m\u001b[0;34m)\u001b[0m \u001b[0;32mas\u001b[0m \u001b[0mfd\u001b[0m\u001b[0;34m:\u001b[0m\u001b[0;34m\u001b[0m\u001b[0;34m\u001b[0m\u001b[0m\n\u001b[0m\u001b[1;32m    904\u001b[0m         \u001b[0;32mtry\u001b[0m\u001b[0;34m:\u001b[0m\u001b[0;34m\u001b[0m\u001b[0;34m\u001b[0m\u001b[0m\n",
            "\u001b[0;32m/usr/lib/python3.11/contextlib.py\u001b[0m in \u001b[0;36m__enter__\u001b[0;34m(self)\u001b[0m\n\u001b[1;32m    136\u001b[0m         \u001b[0;32mtry\u001b[0m\u001b[0;34m:\u001b[0m\u001b[0;34m\u001b[0m\u001b[0;34m\u001b[0m\u001b[0m\n\u001b[0;32m--> 137\u001b[0;31m             \u001b[0;32mreturn\u001b[0m \u001b[0mnext\u001b[0m\u001b[0;34m(\u001b[0m\u001b[0mself\u001b[0m\u001b[0;34m.\u001b[0m\u001b[0mgen\u001b[0m\u001b[0;34m)\u001b[0m\u001b[0;34m\u001b[0m\u001b[0;34m\u001b[0m\u001b[0m\n\u001b[0m\u001b[1;32m    138\u001b[0m         \u001b[0;32mexcept\u001b[0m \u001b[0mStopIteration\u001b[0m\u001b[0;34m:\u001b[0m\u001b[0;34m\u001b[0m\u001b[0;34m\u001b[0m\u001b[0m\n",
            "\u001b[0;32m/usr/local/lib/python3.11/dist-packages/matplotlib/__init__.py\u001b[0m in \u001b[0;36m_open_file_or_url\u001b[0;34m(fname)\u001b[0m\n\u001b[1;32m    879\u001b[0m         \u001b[0mfname\u001b[0m \u001b[0;34m=\u001b[0m \u001b[0mos\u001b[0m\u001b[0;34m.\u001b[0m\u001b[0mpath\u001b[0m\u001b[0;34m.\u001b[0m\u001b[0mexpanduser\u001b[0m\u001b[0;34m(\u001b[0m\u001b[0mfname\u001b[0m\u001b[0;34m)\u001b[0m\u001b[0;34m\u001b[0m\u001b[0;34m\u001b[0m\u001b[0m\n\u001b[0;32m--> 880\u001b[0;31m         \u001b[0;32mwith\u001b[0m \u001b[0mopen\u001b[0m\u001b[0;34m(\u001b[0m\u001b[0mfname\u001b[0m\u001b[0;34m,\u001b[0m \u001b[0mencoding\u001b[0m\u001b[0;34m=\u001b[0m\u001b[0;34m'utf-8'\u001b[0m\u001b[0;34m)\u001b[0m \u001b[0;32mas\u001b[0m \u001b[0mf\u001b[0m\u001b[0;34m:\u001b[0m\u001b[0;34m\u001b[0m\u001b[0;34m\u001b[0m\u001b[0m\n\u001b[0m\u001b[1;32m    881\u001b[0m             \u001b[0;32myield\u001b[0m \u001b[0mf\u001b[0m\u001b[0;34m\u001b[0m\u001b[0;34m\u001b[0m\u001b[0m\n",
            "\u001b[0;31mFileNotFoundError\u001b[0m: [Errno 2] No such file or directory: 'data'",
            "\nThe above exception was the direct cause of the following exception:\n",
            "\u001b[0;31mOSError\u001b[0m                                   Traceback (most recent call last)",
            "\u001b[0;32m<ipython-input-9-d6ba9982e501>\u001b[0m in \u001b[0;36m<cell line: 0>\u001b[0;34m()\u001b[0m\n\u001b[1;32m     58\u001b[0m     \u001b[0mmain\u001b[0m\u001b[0;34m(\u001b[0m\u001b[0;34m)\u001b[0m\u001b[0;34m\u001b[0m\u001b[0;34m\u001b[0m\u001b[0m\n\u001b[1;32m     59\u001b[0m \u001b[0;34m\u001b[0m\u001b[0m\n\u001b[0;32m---> 60\u001b[0;31m \u001b[0mplt\u001b[0m\u001b[0;34m.\u001b[0m\u001b[0mstyle\u001b[0m\u001b[0;34m.\u001b[0m\u001b[0muse\u001b[0m\u001b[0;34m(\u001b[0m\u001b[0;34m'data'\u001b[0m\u001b[0;34m)\u001b[0m\u001b[0;34m\u001b[0m\u001b[0;34m\u001b[0m\u001b[0m\n\u001b[0m\u001b[1;32m     61\u001b[0m \u001b[0mdaily_play_count\u001b[0m \u001b[0;34m=\u001b[0m \u001b[0mdata\u001b[0m\u001b[0;34m.\u001b[0m\u001b[0mgroupby\u001b[0m\u001b[0;34m(\u001b[0m\u001b[0;34m'day_of_week'\u001b[0m\u001b[0;34m)\u001b[0m\u001b[0;34m[\u001b[0m\u001b[0;34m'play_count'\u001b[0m\u001b[0;34m]\u001b[0m\u001b[0;34m.\u001b[0m\u001b[0msum\u001b[0m\u001b[0;34m(\u001b[0m\u001b[0;34m)\u001b[0m\u001b[0;34m.\u001b[0m\u001b[0mreset_index\u001b[0m\u001b[0;34m(\u001b[0m\u001b[0;34m)\u001b[0m\u001b[0;34m\u001b[0m\u001b[0;34m\u001b[0m\u001b[0m\n\u001b[1;32m     62\u001b[0m \u001b[0mplt\u001b[0m\u001b[0;34m.\u001b[0m\u001b[0mfigure\u001b[0m\u001b[0;34m(\u001b[0m\u001b[0mfigsize\u001b[0m\u001b[0;34m=\u001b[0m\u001b[0;34m(\u001b[0m\u001b[0;36m10\u001b[0m\u001b[0;34m,\u001b[0m\u001b[0;36m6\u001b[0m\u001b[0;34m)\u001b[0m\u001b[0;34m)\u001b[0m\u001b[0;34m\u001b[0m\u001b[0;34m\u001b[0m\u001b[0m\n",
            "\u001b[0;32m/usr/local/lib/python3.11/dist-packages/matplotlib/style/core.py\u001b[0m in \u001b[0;36muse\u001b[0;34m(style)\u001b[0m\n\u001b[1;32m    129\u001b[0m                 \u001b[0mstyle\u001b[0m \u001b[0;34m=\u001b[0m \u001b[0m_rc_params_in_file\u001b[0m\u001b[0;34m(\u001b[0m\u001b[0mstyle\u001b[0m\u001b[0;34m)\u001b[0m\u001b[0;34m\u001b[0m\u001b[0;34m\u001b[0m\u001b[0m\n\u001b[1;32m    130\u001b[0m             \u001b[0;32mexcept\u001b[0m \u001b[0mOSError\u001b[0m \u001b[0;32mas\u001b[0m \u001b[0merr\u001b[0m\u001b[0;34m:\u001b[0m\u001b[0;34m\u001b[0m\u001b[0;34m\u001b[0m\u001b[0m\n\u001b[0;32m--> 131\u001b[0;31m                 raise OSError(\n\u001b[0m\u001b[1;32m    132\u001b[0m                     \u001b[0;34mf\"{style!r} is not a valid package style, path of style \"\u001b[0m\u001b[0;34m\u001b[0m\u001b[0;34m\u001b[0m\u001b[0m\n\u001b[1;32m    133\u001b[0m                     \u001b[0;34mf\"file, URL of style file, or library style name (library \"\u001b[0m\u001b[0;34m\u001b[0m\u001b[0;34m\u001b[0m\u001b[0m\n",
            "\u001b[0;31mOSError\u001b[0m: 'data' is not a valid package style, path of style file, URL of style file, or library style name (library styles are listed in `style.available`)"
          ]
        }
      ]
    },
    {
      "cell_type": "code",
      "source": [
        "import numpy as np\n",
        "import pandas as pd\n",
        "\n",
        "data = {'Song':['Black is Beautiful', 'Planet Hurt', 'Ghetto Mi Born', 'Use to Hungry', 'Mercy A God', 'God Is Love','God Is Real', 'God Is Real'] , 'Artiste' : ['Chronixx', 'Nhance', 'Nhance', 'Vershon', 'Vershon', 'Popcaan', '1Emma', '1Emma'] , 'Energy' : ['1', '1', '1', '1', '1', '1', '1', '1'] , 'Day_Played' : ['Saturday', 'Saturday', 'Saturday', 'Saturday', 'Saturday', 'Saturday', 'Saturday', 'Saturday']}\n",
        "df = pd.DataFrame(data)\n",
        "print(df.head())"
      ],
      "metadata": {
        "outputId": "026254ff-0e11-4f01-dda8-2fe1f7c5cbd5",
        "colab": {
          "base_uri": "https://localhost:8080/"
        },
        "id": "TLUTvZFURs64"
      },
      "execution_count": null,
      "outputs": [
        {
          "output_type": "stream",
          "name": "stdout",
          "text": [
            "                 Song   Artiste Energy Day_Played\n",
            "0  Black is Beautiful  Chronixx      1   Saturday\n",
            "1         Planet Hurt    Nhance      1   Saturday\n",
            "2      Ghetto Mi Born    Nhance      1   Saturday\n",
            "3       Use to Hungry   Vershon      1   Saturday\n",
            "4         Mercy A God   Vershon      1   Saturday\n"
          ]
        }
      ]
    },
    {
      "cell_type": "markdown",
      "source": [
        "Question 7: Push your project to your github account!"
      ],
      "metadata": {
        "id": "FoiknhxHv9MV"
      }
    }
  ]
}