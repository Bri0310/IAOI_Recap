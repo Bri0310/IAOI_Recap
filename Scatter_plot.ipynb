{
  "nbformat": 4,
  "nbformat_minor": 0,
  "metadata": {
    "colab": {
      "provenance": [],
      "authorship_tag": "ABX9TyNNV5uLkhrFmMXMJm6KYCPX",
      "include_colab_link": true
    },
    "kernelspec": {
      "name": "python3",
      "display_name": "Python 3"
    },
    "language_info": {
      "name": "python"
    }
  },
  "cells": [
    {
      "cell_type": "markdown",
      "metadata": {
        "id": "view-in-github",
        "colab_type": "text"
      },
      "source": [
        "<a href=\"https://colab.research.google.com/github/Bri0310/IAOI_Recap/blob/main/Scatter_plot.ipynb\" target=\"_parent\"><img src=\"https://colab.research.google.com/assets/colab-badge.svg\" alt=\"Open In Colab\"/></a>"
      ]
    },
    {
      "cell_type": "code",
      "source": [
        "dataset = pd.read_csv(\"pricesmart_shopper_behavior_final_10500.csv\")\n",
        "print(dataset)"
      ],
      "metadata": {
        "colab": {
          "base_uri": "https://localhost:8080/"
        },
        "id": "2mOxRUu1zRSz",
        "outputId": "843efabc-4b8a-4059-c5f4-f38622e146cb"
      },
      "execution_count": null,
      "outputs": [
        {
          "output_type": "stream",
          "name": "stdout",
          "text": [
            "         CustomerID  Age  Gender      Location  NumberOfPurchases  \\\n",
            "0      PS-CUST00001   55    Male     Ocho Rios                  5   \n",
            "1      PS-CUST00002   51    Male  Spanish Town                  9   \n",
            "2      PS-CUST00003   29  Female   Montego Bay                  5   \n",
            "3      PS-CUST00004   61    Male  Spanish Town                  6   \n",
            "4      PS-CUST00005   32  Female   Montego Bay                  5   \n",
            "...             ...  ...     ...           ...                ...   \n",
            "10495  PS-CUST10496   35  Female   Montego Bay                 11   \n",
            "10496  PS-CUST10497   63  Female  Spanish Town                  5   \n",
            "10497  PS-CUST10498   53  Female   Montego Bay                  5   \n",
            "10498  PS-CUST10499   58   Other      Kingston                  1   \n",
            "10499  PS-CUST10500   37  Female     Ocho Rios                  6   \n",
            "\n",
            "       AverageBasketValue PreferredPaymentMethod DeviceUsed  \\\n",
            "0                   83.12            Credit Card    Desktop   \n",
            "1                   72.64                   Cash     Tablet   \n",
            "2                   47.22                   Cash     Tablet   \n",
            "3                   47.83            Credit Card     Tablet   \n",
            "4                   98.67            Credit Card     Mobile   \n",
            "...                   ...                    ...        ...   \n",
            "10495               27.37             Debit Card    Desktop   \n",
            "10496               44.14         Digital Wallet    Desktop   \n",
            "10497               85.32                   Cash     Mobile   \n",
            "10498               25.27             Debit Card     Tablet   \n",
            "10499               89.20            Credit Card     Mobile   \n",
            "\n",
            "       VisitFrequencyPerWeek  CartAbandonmentRate LoyaltyProgramMember  \n",
            "0                          6                 0.57                  Yes  \n",
            "1                          7                 0.74                   No  \n",
            "2                          5                 0.10                  Yes  \n",
            "3                          9                 0.03                  Yes  \n",
            "4                          2                 0.10                  Yes  \n",
            "...                      ...                  ...                  ...  \n",
            "10495                      6                 0.15                   No  \n",
            "10496                      5                 0.55                   No  \n",
            "10497                      9                 0.78                   No  \n",
            "10498                      8                 0.41                   No  \n",
            "10499                      8                 0.71                  Yes  \n",
            "\n",
            "[10500 rows x 11 columns]\n"
          ]
        }
      ]
    },
    {
      "cell_type": "code",
      "execution_count": null,
      "metadata": {
        "id": "AvpFGiPJEARf",
        "outputId": "35c469bc-e18c-48a5-ea5d-da3755af9439",
        "colab": {
          "base_uri": "https://localhost:8080/"
        }
      },
      "outputs": [
        {
          "output_type": "stream",
          "name": "stdout",
          "text": [
            "   ShopperID       Age  AnnualIncome  SpendingScore  VisitsPerMonth  \\\n",
            "0          1  0.830201     -0.762247      -1.457845       -0.575742   \n",
            "1          2  1.702249      0.878485       0.714480        0.586809   \n",
            "2          3  0.159394      0.828513      -1.388882        0.586809   \n",
            "3          4 -0.779735     -0.722091       0.231741        2.330635   \n",
            "4          5  1.098523     -0.403212      -1.595770       -0.575742   \n",
            "\n",
            "  PreferredDepartment  LoyaltyProgram  PreferredDepartmentEncoded  \n",
            "0            Clothing               0                           0  \n",
            "1            Pharmacy               1                           4  \n",
            "2            Pharmacy               1                           4  \n",
            "3         Electronics               1                           1  \n",
            "4            Clothing               1                           0  \n"
          ]
        }
      ],
      "source": [
        "import pandas as pd\n",
        "import numpy as np\n",
        "from sklearn.preprocessing import StandardScaler, LabelEncoder\n",
        "\n",
        "# Generate shopper data (if not already created)\n",
        "np.random.seed(42)\n",
        "n_rows = 10500\n",
        "data = {\n",
        "    \"ShopperID\": range(1, n_rows + 1),\n",
        "    \"Age\": np.random.randint(18, 70, size=n_rows),\n",
        "    \"AnnualIncome\": np.random.randint(15000, 150000, size=n_rows),\n",
        "    \"SpendingScore\": np.random.randint(1, 101, size=n_rows),\n",
        "    \"VisitsPerMonth\": np.random.poisson(3, n_rows),\n",
        "    \"PreferredDepartment\": np.random.choice(['Grocery', 'Electronics', 'Clothing', 'Pharmacy', 'Household'], size=n_rows),\n",
        "    \"LoyaltyProgram\": np.random.choice([0, 1], size=n_rows, p=[0.3, 0.7])\n",
        "}\n",
        "df = pd.DataFrame(data)\n",
        "\n",
        "# Step 2.1: Encode the 'PreferredDepartment' column\n",
        "le = LabelEncoder()\n",
        "df['PreferredDepartmentEncoded'] = le.fit_transform(df['PreferredDepartment'])\n",
        "\n",
        "# Step 2.2: Simulate missing data in 'AnnualIncome' and drop rows with missing values\n",
        "df.loc[np.random.choice(df.index, 100, replace=False), 'AnnualIncome'] = np.nan\n",
        "df.dropna(subset=['AnnualIncome'], inplace=True)\n",
        "\n",
        "# Step 2.3: Standardize numerical columns\n",
        "scaler = StandardScaler()\n",
        "numerical_cols = ['Age', 'AnnualIncome', 'SpendingScore', 'VisitsPerMonth']\n",
        "df[numerical_cols] = scaler.fit_transform(df[numerical_cols])\n",
        "\n",
        "# View cleaned and prepared data\n",
        "print(df.head())"
      ]
    },
    {
      "cell_type": "markdown",
      "source": [
        "use methods that in relation to how scatterplot may look\n",
        "1. merge datasets\n",
        "2.\n",
        "3."
      ],
      "metadata": {
        "id": "4HS4DdOzFRhB"
      }
    }
  ]
}