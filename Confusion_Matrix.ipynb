{
  "nbformat": 4,
  "nbformat_minor": 0,
  "metadata": {
    "colab": {
      "provenance": [],
      "authorship_tag": "ABX9TyNbutKhMjkRh9h4untopn8V",
      "include_colab_link": true
    },
    "kernelspec": {
      "name": "python3",
      "display_name": "Python 3"
    },
    "language_info": {
      "name": "python"
    }
  },
  "cells": [
    {
      "cell_type": "markdown",
      "metadata": {
        "id": "view-in-github",
        "colab_type": "text"
      },
      "source": [
        "<a href=\"https://colab.research.google.com/github/Bri0310/IAOI_Recap/blob/main/Confusion_Matrix.ipynb\" target=\"_parent\"><img src=\"https://colab.research.google.com/assets/colab-badge.svg\" alt=\"Open In Colab\"/></a>"
      ]
    },
    {
      "cell_type": "markdown",
      "source": [
        "Accuracy - how often model is right overall\n",
        "\n",
        "Precision - how often is the model right when predicts positives\n",
        "\n",
        "Recall - how many of total predictions are predicted by model\n",
        "\n",
        "Matrix - basically a table with rows and columns"
      ],
      "metadata": {
        "id": "pCi1cOoT1xEX"
      }
    },
    {
      "cell_type": "markdown",
      "source": [
        "f1 score - mean between accuracy and recall"
      ],
      "metadata": {
        "id": "IRNoV8uh2jTr"
      }
    },
    {
      "cell_type": "markdown",
      "source": [
        "TP- true positive.      FP- false positive\n",
        "\n",
        "TN- true negative.      FN- false negative"
      ],
      "metadata": {
        "id": "BNZqB6A03WtT"
      }
    },
    {
      "cell_type": "code",
      "execution_count": null,
      "metadata": {
        "id": "Vsllzogrwfkw"
      },
      "outputs": [],
      "source": []
    }
  ]
}