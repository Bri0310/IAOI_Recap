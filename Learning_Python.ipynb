{
  "nbformat": 4,
  "nbformat_minor": 0,
  "metadata": {
    "colab": {
      "provenance": [],
      "authorship_tag": "ABX9TyPvITz+YpZwmL0P9PRazx+C",
      "include_colab_link": true
    },
    "kernelspec": {
      "name": "python3",
      "display_name": "Python 3"
    },
    "language_info": {
      "name": "python"
    }
  },
  "cells": [
    {
      "cell_type": "markdown",
      "metadata": {
        "id": "view-in-github",
        "colab_type": "text"
      },
      "source": [
        "<a href=\"https://colab.research.google.com/github/Bri0310/IAOI_Recap/blob/main/Learning_Python.ipynb\" target=\"_parent\"><img src=\"https://colab.research.google.com/assets/colab-badge.svg\" alt=\"Open In Colab\"/></a>"
      ]
    },
    {
      "cell_type": "code",
      "execution_count": null,
      "metadata": {
        "colab": {
          "base_uri": "https://localhost:8080/"
        },
        "id": "C3U-kERQ652t",
        "outputId": "13ca91f2-6852-4fd5-8410-31b909b0ae7f"
      },
      "outputs": [
        {
          "output_type": "stream",
          "name": "stdout",
          "text": [
            "Im Brithney\n",
            "15\n",
            "Brithney\n",
            "Hello my name is Brithney and I am cute\n",
            "Hello my name is Brithney and I am 15\n"
          ]
        }
      ],
      "source": [
        "X = 5 #This is an integer\n",
        "y = 9.5 #This is a floating point\n",
        "name = \"Brithney\" #This is a string/character-letter/words\n",
        "age = 15\n",
        "print(\"Im Brithney\")\n",
        "print(15)\n",
        "\n",
        "print(name) #printing variable\n",
        "\n",
        "print(\"Hello my name is\", name, \"and I am cute\" )\n",
        "print(\"Hello my name is\", name, \"and I am\", age)"
      ]
    },
    {
      "cell_type": "markdown",
      "source": [
        "var = \"2\" #This is a string despite numbers\n",
        "When printing numbers dont use quitations"
      ],
      "metadata": {
        "id": "zmDt1mZT8U6d"
      }
    },
    {
      "cell_type": "code",
      "source": [
        "name = input(\"Enter your name\")\n",
        "print(\"Hello\", name, \"It's so nice to meet you !\")\n",
        "\n",
        "print (name)"
      ],
      "metadata": {
        "colab": {
          "base_uri": "https://localhost:8080/"
        },
        "id": "maHyn-LU80Km",
        "outputId": "b5350bb0-4987-4681-fea2-a4ffbfecc064"
      },
      "execution_count": null,
      "outputs": [
        {
          "output_type": "stream",
          "name": "stdout",
          "text": [
            "Enter your nameBrit\n",
            "Hello Brit It's so nice to meet you !\n",
            "Brit\n"
          ]
        }
      ]
    },
    {
      "cell_type": "code",
      "source": [
        "lst = [6,2,7,95,3]\n",
        "print(lst)\n",
        "print(lst[2]) #Print second number from data set because the first would be 0 ratter than 1"
      ],
      "metadata": {
        "colab": {
          "base_uri": "https://localhost:8080/"
        },
        "id": "IE5Yh3Kn9bxh",
        "outputId": "ff7fae92-8fdb-4b34-fc23-237978a09d1c"
      },
      "execution_count": null,
      "outputs": [
        {
          "output_type": "stream",
          "name": "stdout",
          "text": [
            "[6, 2, 7, 95, 3]\n",
            "7\n"
          ]
        }
      ]
    },
    {
      "cell_type": "code",
      "source": [
        "dictionary = {\n",
        "    \"banana\": \"yellow\",\n",
        "    \"apple\": \"red\"\n",
        "    \"orange\": \"orange\",\n",
        "}\n",
        "\n",
        "#print(dictionary)\n",
        "print(dictionary[])"
      ],
      "metadata": {
        "colab": {
          "base_uri": "https://localhost:8080/",
          "height": 109
        },
        "id": "5kVDixdU92JO",
        "outputId": "2f0c04bc-a89d-4c1c-b76e-adf3382d45cd"
      },
      "execution_count": null,
      "outputs": [
        {
          "output_type": "error",
          "ename": "SyntaxError",
          "evalue": "invalid syntax (<ipython-input-7-6e32ad1787cc>, line 4)",
          "traceback": [
            "\u001b[0;36m  File \u001b[0;32m\"<ipython-input-7-6e32ad1787cc>\"\u001b[0;36m, line \u001b[0;32m4\u001b[0m\n\u001b[0;31m    \"orange\": \"orange\",\u001b[0m\n\u001b[0m            ^\u001b[0m\n\u001b[0;31mSyntaxError\u001b[0m\u001b[0;31m:\u001b[0m invalid syntax\n"
          ]
        }
      ]
    },
    {
      "cell_type": "code",
      "source": [
        "3 + 3\n",
        "3 - 3\n",
        "8 * 2"
      ],
      "metadata": {
        "colab": {
          "base_uri": "https://localhost:8080/"
        },
        "id": "W89Ptak49_0V",
        "outputId": "45764544-2a33-4326-df9e-9b250112343c"
      },
      "execution_count": null,
      "outputs": [
        {
          "output_type": "execute_result",
          "data": {
            "text/plain": [
              "16"
            ]
          },
          "metadata": {},
          "execution_count": 10
        }
      ]
    },
    {
      "cell_type": "code",
      "source": [
        "7 / 4"
      ],
      "metadata": {
        "colab": {
          "base_uri": "https://localhost:8080/"
        },
        "id": "28CQa8L1-08B",
        "outputId": "9a6752f8-375c-4433-b3f9-c3b96ef59104"
      },
      "execution_count": null,
      "outputs": [
        {
          "output_type": "execute_result",
          "data": {
            "text/plain": [
              "1.75"
            ]
          },
          "metadata": {},
          "execution_count": 11
        }
      ]
    },
    {
      "cell_type": "code",
      "source": [
        "7 // 4 #Does not round up"
      ],
      "metadata": {
        "colab": {
          "base_uri": "https://localhost:8080/"
        },
        "id": "nTJB3QZf-2wb",
        "outputId": "2f1f6262-8d2d-4bc0-fa10-252a14683792"
      },
      "execution_count": null,
      "outputs": [
        {
          "output_type": "execute_result",
          "data": {
            "text/plain": [
              "1"
            ]
          },
          "metadata": {},
          "execution_count": 12
        }
      ]
    },
    {
      "cell_type": "code",
      "source": [
        "7 % 3"
      ],
      "metadata": {
        "colab": {
          "base_uri": "https://localhost:8080/"
        },
        "id": "nNWzl3Oc-8cv",
        "outputId": "6b7366b5-c50d-4102-a77b-cc48b5ac4d32"
      },
      "execution_count": null,
      "outputs": [
        {
          "output_type": "execute_result",
          "data": {
            "text/plain": [
              "1"
            ]
          },
          "metadata": {},
          "execution_count": 13
        }
      ]
    },
    {
      "cell_type": "code",
      "source": [
        "i = i + i\n",
        "i++"
      ],
      "metadata": {
        "colab": {
          "base_uri": "https://localhost:8080/",
          "height": 109
        },
        "id": "WKN_M11b_Eck",
        "outputId": "860e3a5f-650b-4444-cc10-c45c5aabf821"
      },
      "execution_count": null,
      "outputs": [
        {
          "output_type": "error",
          "ename": "SyntaxError",
          "evalue": "invalid syntax (<ipython-input-14-ab4c66c1160e>, line 2)",
          "traceback": [
            "\u001b[0;36m  File \u001b[0;32m\"<ipython-input-14-ab4c66c1160e>\"\u001b[0;36m, line \u001b[0;32m2\u001b[0m\n\u001b[0;31m    i++\u001b[0m\n\u001b[0m       ^\u001b[0m\n\u001b[0;31mSyntaxError\u001b[0m\u001b[0;31m:\u001b[0m invalid syntax\n"
          ]
        }
      ]
    },
    {
      "cell_type": "markdown",
      "source": [
        "Boolean"
      ],
      "metadata": {
        "id": "YNYhlTFJ_8-8"
      }
    },
    {
      "cell_type": "code",
      "source": [
        "6 == 6"
      ],
      "metadata": {
        "colab": {
          "base_uri": "https://localhost:8080/"
        },
        "id": "z3rh1VOx_SLy",
        "outputId": "2e38542b-520c-437e-e308-3ce842f65fac"
      },
      "execution_count": null,
      "outputs": [
        {
          "output_type": "execute_result",
          "data": {
            "text/plain": [
              "True"
            ]
          },
          "metadata": {},
          "execution_count": 15
        }
      ]
    },
    {
      "cell_type": "code",
      "source": [
        "6 <= 5"
      ],
      "metadata": {
        "colab": {
          "base_uri": "https://localhost:8080/"
        },
        "id": "ZeOVv9t0_XH8",
        "outputId": "b639c112-2bd9-4358-e990-444ea9e593ec"
      },
      "execution_count": null,
      "outputs": [
        {
          "output_type": "execute_result",
          "data": {
            "text/plain": [
              "False"
            ]
          },
          "metadata": {},
          "execution_count": 16
        }
      ]
    },
    {
      "cell_type": "code",
      "source": [
        "6 > 6"
      ],
      "metadata": {
        "colab": {
          "base_uri": "https://localhost:8080/"
        },
        "id": "3To1OTom_jIz",
        "outputId": "85bc5a99-b9b8-4056-a40e-2d77d081d97b"
      },
      "execution_count": null,
      "outputs": [
        {
          "output_type": "execute_result",
          "data": {
            "text/plain": [
              "False"
            ]
          },
          "metadata": {},
          "execution_count": 17
        }
      ]
    },
    {
      "cell_type": "code",
      "source": [
        "6 > 4"
      ],
      "metadata": {
        "colab": {
          "base_uri": "https://localhost:8080/"
        },
        "id": "yHPz3CH3_mBy",
        "outputId": "08792642-c18b-45b2-cbd4-ef5253f944f5"
      },
      "execution_count": null,
      "outputs": [
        {
          "output_type": "execute_result",
          "data": {
            "text/plain": [
              "True"
            ]
          },
          "metadata": {},
          "execution_count": 18
        }
      ]
    },
    {
      "cell_type": "markdown",
      "source": [
        "LOGICAL OPERATIONS\n"
      ],
      "metadata": {
        "id": "3Doy1Xf3_ves"
      }
    },
    {
      "cell_type": "markdown",
      "source": [
        "FUNCTIONS"
      ],
      "metadata": {
        "id": "cvhY0QUOACO1"
      }
    },
    {
      "cell_type": "code",
      "source": [
        "def add2(): # def defines the function\n",
        "num = 4\n",
        "print(num + 2) #return num + 2\n",
        "\n",
        "num = int(input(\"Enter your number here\"))\n",
        "add2(num)"
      ],
      "metadata": {
        "id": "Vnul1gTNAFLQ"
      },
      "execution_count": null,
      "outputs": []
    },
    {
      "cell_type": "markdown",
      "source": [
        "IF statement\n",
        "\n"
      ],
      "metadata": {
        "id": "pYan0qqMClQj"
      }
    },
    {
      "cell_type": "code",
      "source": [
        "def addnum(num1,num2):\n",
        "  print(num1 + num2)\n",
        "\n",
        "\n",
        "addnum(num1,num2)\n",
        "if choice == 1:\n",
        "  addnum(num1,num2)"
      ],
      "metadata": {
        "id": "yJrtXb4nDRNt"
      },
      "execution_count": null,
      "outputs": []
    },
    {
      "cell_type": "markdown",
      "source": [
        "enter name and 2 numbers\n",
        "\n",
        "hello name welcome to my calculator\n",
        "\n",
        "what to do with numbers with 5 options like enter 1 for addition\n",
        "\n",
        "use if statement (if ...then...) (if else..)"
      ],
      "metadata": {
        "id": "R2KrWQ3ICGoq"
      }
    },
    {
      "cell_type": "code",
      "source": [
        "name = input(\"Enter your name\")\n",
        "print(\"Hello\", name, \"Welcome to my calculator\")"
      ],
      "metadata": {
        "colab": {
          "base_uri": "https://localhost:8080/"
        },
        "id": "GyQ6LAeokqRQ",
        "outputId": "c48b7d94-5dc9-487c-d0e6-8a71b48f5d94"
      },
      "execution_count": null,
      "outputs": [
        {
          "output_type": "stream",
          "name": "stdout",
          "text": [
            "Enter your nameJia\n",
            "Hello Jia Welcome to my calculator\n"
          ]
        }
      ]
    },
    {
      "cell_type": "code",
      "source": [
        "lst = [2,3]\n",
        "num1=1\n",
        "num2=2"
      ],
      "metadata": {
        "id": "zVh_kUcylgBn"
      },
      "execution_count": null,
      "outputs": []
    },
    {
      "cell_type": "code",
      "source": [
        "def add2(): # def defines the function\n",
        " num1 = 2\n",
        " num2 = 5\n",
        " print(num1 + 2) #return num + 2\n",
        "\n",
        "num = int(input(\"Enter your number here\"))\n",
        "choice = int(input(\"Enter your choice\"))\n",
        "if choice == 2:\n",
        " add2(num)"
      ],
      "metadata": {
        "colab": {
          "base_uri": "https://localhost:8080/"
        },
        "id": "Sd8b3rEQm26T",
        "outputId": "33d85131-d47f-4cab-b41b-6d883960f2f9"
      },
      "execution_count": null,
      "outputs": [
        {
          "name": "stdout",
          "output_type": "stream",
          "text": [
            "Enter your number here3\n",
            "Enter your choice1\n"
          ]
        }
      ]
    },
    {
      "cell_type": "code",
      "source": [
        "\n",
        "def addnum(num1,num2):\n",
        "  print(num1 + num2)\n",
        "\n",
        "\n",
        "addnum(num1,num2)\n",
        "if choice == 1:\n",
        "  addnum(num1,num2)"
      ],
      "metadata": {
        "colab": {
          "base_uri": "https://localhost:8080/",
          "height": 217
        },
        "id": "GdKrRuD3mHJ5",
        "outputId": "de207c63-a183-4539-ec9f-22279cbba731"
      },
      "execution_count": null,
      "outputs": [
        {
          "output_type": "stream",
          "name": "stdout",
          "text": [
            "3\n"
          ]
        },
        {
          "output_type": "error",
          "ename": "NameError",
          "evalue": "name 'choice' is not defined",
          "traceback": [
            "\u001b[0;31m---------------------------------------------------------------------------\u001b[0m",
            "\u001b[0;31mNameError\u001b[0m                                 Traceback (most recent call last)",
            "\u001b[0;32m<ipython-input-8-41763138>\u001b[0m in \u001b[0;36m<cell line: 0>\u001b[0;34m()\u001b[0m\n\u001b[1;32m      4\u001b[0m \u001b[0;34m\u001b[0m\u001b[0m\n\u001b[1;32m      5\u001b[0m \u001b[0maddnum\u001b[0m\u001b[0;34m(\u001b[0m\u001b[0mnum1\u001b[0m\u001b[0;34m,\u001b[0m\u001b[0mnum2\u001b[0m\u001b[0;34m)\u001b[0m\u001b[0;34m\u001b[0m\u001b[0;34m\u001b[0m\u001b[0m\n\u001b[0;32m----> 6\u001b[0;31m \u001b[0;32mif\u001b[0m \u001b[0mchoice\u001b[0m \u001b[0;34m==\u001b[0m \u001b[0;36m1\u001b[0m\u001b[0;34m:\u001b[0m\u001b[0;34m\u001b[0m\u001b[0;34m\u001b[0m\u001b[0m\n\u001b[0m\u001b[1;32m      7\u001b[0m   \u001b[0maddnum\u001b[0m\u001b[0;34m(\u001b[0m\u001b[0mnum1\u001b[0m\u001b[0;34m,\u001b[0m\u001b[0mnum2\u001b[0m\u001b[0;34m)\u001b[0m\u001b[0;34m\u001b[0m\u001b[0;34m\u001b[0m\u001b[0m\n",
            "\u001b[0;31mNameError\u001b[0m: name 'choice' is not defined"
          ]
        }
      ]
    },
    {
      "cell_type": "code",
      "source": [
        "def add2(): # def defines the function\n",
        "num = 4\n",
        "print(num + 2) #return num + 2\n",
        "\n",
        "num = int(input(\"Enter your number here\"))\n",
        "add2(num)"
      ],
      "metadata": {
        "id": "CKBmcR4Am0QR"
      },
      "execution_count": null,
      "outputs": []
    },
    {
      "cell_type": "code",
      "source": [
        "def add2(): # def defines the function\n",
        "num = 4\n",
        "print(num + 2) #return num + 2\n",
        "\n",
        "num = int(input(\"Enter your number here\"))\n",
        "add2(num)"
      ],
      "metadata": {
        "id": "fT14JsZtmzIp"
      },
      "execution_count": null,
      "outputs": []
    },
    {
      "cell_type": "code",
      "source": [
        "def add2(): # def defines the function\n",
        "num = 4\n",
        "print(num + 2) #return num + 2\n",
        "\n",
        "num = int(input(\"Enter your number here\"))\n",
        "add2(num)"
      ],
      "metadata": {
        "id": "NdukUowcmypq",
        "colab": {
          "base_uri": "https://localhost:8080/",
          "height": 109
        },
        "outputId": "7831aa36-fa6f-4142-c6c1-81b0c4799291"
      },
      "execution_count": 5,
      "outputs": [
        {
          "output_type": "error",
          "ename": "IndentationError",
          "evalue": "expected an indented block after function definition on line 1 (<ipython-input-5-3877726883>, line 2)",
          "traceback": [
            "\u001b[0;36m  File \u001b[0;32m\"<ipython-input-5-3877726883>\"\u001b[0;36m, line \u001b[0;32m2\u001b[0m\n\u001b[0;31m    num = 4\u001b[0m\n\u001b[0m    ^\u001b[0m\n\u001b[0;31mIndentationError\u001b[0m\u001b[0;31m:\u001b[0m expected an indented block after function definition on line 1\n"
          ]
        }
      ]
    },
    {
      "cell_type": "code",
      "source": [
        "# Define functions for calculator operations\n",
        "def add(num1, num2):\n",
        "  return num1 + num2\n",
        "\n",
        "def subtract(num1, num2):\n",
        "  return num1 - num2\n",
        "\n",
        "def multiply(num1, num2):\n",
        "  return num1 * num2\n",
        "\n",
        "def divide(num1, num2):\n",
        "  # Add a check to prevent division by zero\n",
        "  if num2 != 0:\n",
        "    return num1 / num2\n",
        "  else:\n",
        "    return None # Return None or raise an error for division by zero"
      ],
      "metadata": {
        "id": "T1_QQ9zGImGB"
      },
      "execution_count": 6,
      "outputs": []
    },
    {
      "cell_type": "code",
      "source": [
        "name = input(\"Enter your name here\")\n",
        "num1 = float(input(\"Enter first number: \"))\n",
        "num2 = float(input(\"Enter second number: \"))\n",
        "\n",
        "print(f\"Hello, {name}, Welcome to my calculator!\")\n",
        "\n",
        "\n",
        "print(\"\\nWhat would you like to do with the numbers?\")\n",
        "print(\"Enter 1 for Addition\")\n",
        "print(\"Enter 2 for Subtraction\")\n",
        "print(\"Enter 3 for Multiplication\")\n",
        "print(\"Enter 4 for Division\")\n",
        "print(\"Enter 5 for \")\n",
        "\n",
        "\n",
        "choice = int(input(\"Enter your choice (1-5): \"))\n",
        "\n",
        "# Perform operation using if...elif...else\n",
        "if choice == 1:\n",
        "    result = add(num1,num2)\n",
        "    print(f\"\\nThe result of addition is: {result}\")\n",
        "elif choice == 2:\n",
        "    result = subtract(num1,num2)\n",
        "    print(f\"\\nThe result of subtraction is: {result}\")\n",
        "elif choice == 3:\n",
        "    result = multiply(num1,num2)\n",
        "    print(f\"\\nThe result of multiplication is: {result}\")\n",
        "elif choice == 4:\n",
        "    if num2 != 0:\n",
        "        result = divide(num1,num2)\n",
        "        print(f\"\\nThe result of division is: {result}\")\n",
        "    else:\n",
        "        print(\"\\nError: Division by zero is not allowed.\")\n",
        "elif choice == 5:\n",
        "    result = \"Please Enter a choice from 1-4\"\n",
        "    print(f\"\\nThe result of  is: {result}\")\n",
        "else:\n",
        "    print(\"\\nInvalid choice. Please enter a choice from 1 to 4.\")"
      ],
      "metadata": {
        "colab": {
          "base_uri": "https://localhost:8080/"
        },
        "id": "hs2r-br6oWNe",
        "outputId": "00c3518a-ce78-4db1-f3a4-db21176f925c"
      },
      "execution_count": 8,
      "outputs": [
        {
          "output_type": "stream",
          "name": "stdout",
          "text": [
            "Enter your name hereNasha\n",
            "Enter first number: 4\n",
            "Enter second number: 7\n",
            "Hello, Nasha, Welcome to my calculator!\n",
            "\n",
            "What would you like to do with the numbers?\n",
            "Enter 1 for Addition\n",
            "Enter 2 for Subtraction\n",
            "Enter 3 for Multiplication\n",
            "Enter 4 for Division\n",
            "Enter 5 for \n",
            "Enter your choice (1-5): 3\n",
            "\n",
            "The result of multiplication is: 28.0\n"
          ]
        }
      ]
    }
  ]
}