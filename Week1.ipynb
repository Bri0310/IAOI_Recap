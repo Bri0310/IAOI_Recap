{
  "nbformat": 4,
  "nbformat_minor": 0,
  "metadata": {
    "colab": {
      "provenance": [],
      "authorship_tag": "ABX9TyNmR9LBdazrr/I+l8Gg1NKa"
    },
    "kernelspec": {
      "name": "python3",
      "display_name": "Python 3"
    },
    "language_info": {
      "name": "python"
    }
  },
  "cells": [
    {
      "cell_type": "markdown",
      "source": [
        "Hi! Welcome to Week 1! I'm Nasha, your AI Coach at Halls of Learning. I will be posting weekly notebooks to recap what we have covered, and offer additional resources if anyone needs support, or assistance catching up. This week we spoke a bit about the competition that our AI training program is aligned with: the International Olympiad in Artificial Intelligence. From the full syllabus, we will be focusing on the following:\n",
        "\n",
        "*   Week 1 - 2: Python Programming and Data Handling Foundations\n",
        "*   Week 3 - 4:  Machine Learning Foundations; Supervised Learning\n",
        "*   Week 5 - 6: Model Evaluation and Tuning; Unsupervised Learning\n",
        "*   Week 7 - 8: Neural Netowrks, Deep Learning\n",
        "\n",
        "\n",
        "This week, we mostly did introductory tasks.\n",
        "\n",
        "We created Github accounts, and subscribed to HallsofLearningCoding. We also found out that we will need access to an IDE, or an Integrated Development Environment every class so that we can program. I recommend using\n",
        "*  https://colab.research.google.com/ If you would like to get started quickly and focus on learning necessary theory and code\n",
        "*  Visual Studio Code, or another IDE that can be used locally, or on your machine instead of in your browser. Only choose this option if you are comfortable installing any necessary libraries/frameworks.\n",
        "\n",
        "\n",
        "We also attempted a python quiz, which I have included below with possible solutions. If you ranked this quiz at medium or hard I **strongly** recommend looking into this resource:\n",
        "\n",
        "https://colab.research.google.com/github/Nyandwi/machine_learning_complete/blob/main/0_python_for_ml/intro_to_python.ipynb#scrollTo=LQBJekSvOCBi\n",
        "\n",
        "I also recommend joining our Brilliant classroom and completing the Programming with Python course:\n",
        "\n",
        "https://brilliant.org/classroom/join-v2/c36ce0ac-6a06-4497-a2e8-6021be15c9bf\n",
        "\n",
        "Having an understanding of Python, especially Variables, Data Structures, Operations, Control Statements and Functions is a prerequisite for most of our programming tasks moving forward.\n",
        "\n",
        "I also recommend getting comfortable with Prompt Engineering so that you can AI can help you to solve problems.\n",
        "\n",
        "Happy learning; I will see you next week!\n"
      ],
      "metadata": {
        "id": "D-sAF0rfOc0d"
      }
    },
    {
      "cell_type": "markdown",
      "source": [
        "## Python Quiz\n",
        "\n",
        "**Question 0:** Introduce yourself in a text cell\n",
        "\n",
        "Hello again, I'm Nasha! I have a Bs in Computer Science, and I teach Robotics and AI.\n",
        "\n",
        "**Question 1:** Store your name and age in variables and print:\n",
        "\n",
        "\"Hello, my name is NAME and I am AGE years old.\""
      ],
      "metadata": {
        "id": "ybw12CU034Ff"
      }
    },
    {
      "cell_type": "code",
      "source": [
        "name = \"Nasha\"\n",
        "age = 43\n",
        "print(\"Hello, my name is\", name, \"and I am\", age, \"years old.\")\n",
        "\n",
        "#or you could do this: print(f\"Hello, my name is {name} and I am {age} years old.\")"
      ],
      "metadata": {
        "colab": {
          "base_uri": "https://localhost:8080/"
        },
        "id": "VWR6X-OF4GdE",
        "outputId": "a649972d-afac-4fca-ff88-aa5cdaacb96e"
      },
      "execution_count": 6,
      "outputs": [
        {
          "output_type": "stream",
          "name": "stdout",
          "text": [
            "Hello, my name is Nasha and I am 43 years old.\n"
          ]
        }
      ]
    },
    {
      "cell_type": "markdown",
      "source": [
        "**Question 2:** Given a list of numbers, print only the even numbers\n",
        "\n",
        "numbers = [1,2,3,4,5,6,7,8,9,10]"
      ],
      "metadata": {
        "id": "Wg5Dk3Nw4uf0"
      }
    },
    {
      "cell_type": "code",
      "source": [
        "numbers = [1, 2, 3, 4, 5, 6, 7, 8, 9, 10]\n",
        "\n",
        "for n in numbers:\n",
        "    if n % 2 == 0:\n",
        "        print(n)\n",
        "\n",
        "#If you like to keep your code as short as possible, try to do it in one line!\n",
        ""
      ],
      "metadata": {
        "colab": {
          "base_uri": "https://localhost:8080/"
        },
        "id": "3vMNVpeV5Y1X",
        "outputId": "fc1124d0-2af8-480d-8507-689a88014b00"
      },
      "execution_count": 13,
      "outputs": [
        {
          "output_type": "stream",
          "name": "stdout",
          "text": [
            "2\n",
            "4\n",
            "6\n",
            "8\n",
            "10\n"
          ]
        }
      ]
    },
    {
      "cell_type": "markdown",
      "source": [
        "**Question 3:** Write a function that returns the square of a number"
      ],
      "metadata": {
        "id": "9OkbK8Pt6xfg"
      }
    },
    {
      "cell_type": "code",
      "source": [
        "def square(x):\n",
        "    return x * x\n",
        "\n",
        "print(square(5))\n",
        "\n",
        "#Again, how could we do this in one line instead?"
      ],
      "metadata": {
        "colab": {
          "base_uri": "https://localhost:8080/"
        },
        "id": "JIHK4CTO6qLj",
        "outputId": "a2f2027d-f79e-41be-fd9a-6bf552a973bf"
      },
      "execution_count": 14,
      "outputs": [
        {
          "output_type": "stream",
          "name": "stdout",
          "text": [
            "25\n"
          ]
        }
      ]
    },
    {
      "cell_type": "markdown",
      "source": [
        "**Question 4:** Create a dictionary with three fruits and their colours"
      ],
      "metadata": {
        "id": "Awzr_YLFktQC"
      }
    },
    {
      "cell_type": "code",
      "source": [
        "fruits = {\n",
        "    \"strawberry\": \"red\",\n",
        "    \"banana\": \"yellow\",\n",
        "    \"orange\": \"orange\"\n",
        "    }\n",
        "\n",
        "print(fruits[\"banana\"])"
      ],
      "metadata": {
        "colab": {
          "base_uri": "https://localhost:8080/"
        },
        "id": "PDUW95WI7dEd",
        "outputId": "e793cba9-db85-482e-e4bd-8f1f93eb927c"
      },
      "execution_count": 15,
      "outputs": [
        {
          "output_type": "stream",
          "name": "stdout",
          "text": [
            "yellow\n"
          ]
        }
      ]
    },
    {
      "cell_type": "markdown",
      "source": [
        "**Question 5:** Create a function that does the following:\n",
        "* If a number is divisible by 4, print Yay\n",
        "* If a number is divisible by 5, print Nay\n",
        "* If a number is divisible by both, print YayNay\n",
        "\n"
      ],
      "metadata": {
        "id": "UZP6cWcJjoXO"
      }
    },
    {
      "cell_type": "code",
      "source": [
        "#Yes fine, it's basically FizzBuzz, a popular little coding problem\n",
        "\n",
        "def YayNay(number):\n",
        "  if number % 4 == 0 and number % 5 == 0:\n",
        "    print(\"YayNay\")\n",
        "  elif number % 4 == 0:\n",
        "    print(\"Yay\")\n",
        "  elif number % 5 == 0:\n",
        "    print(\"Nay\")\n",
        "  else:\n",
        "    print(number)\n",
        "YayNay(24)\n",
        "YayNay(50)\n",
        "YayNay(20)"
      ],
      "metadata": {
        "colab": {
          "base_uri": "https://localhost:8080/"
        },
        "id": "7HgmS6kyudpq",
        "outputId": "35d0b0aa-a626-4c72-a2f1-14a5d4c8064e"
      },
      "execution_count": 21,
      "outputs": [
        {
          "output_type": "stream",
          "name": "stdout",
          "text": [
            "Yay\n",
            "Nay\n",
            "YayNay\n"
          ]
        }
      ]
    }
  ]
}